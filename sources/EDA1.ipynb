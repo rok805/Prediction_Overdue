{
 "cells": [
  {
   "cell_type": "code",
   "execution_count": 50,
   "metadata": {},
   "outputs": [],
   "source": [
    "# basic mudule\n",
    "import matplotlib.pyplot as plt\n",
    "from collections import Counter\n",
    "import scipy.stats as stats\n",
    "import pandas as pd\n",
    "import numpy as np\n",
    "import math\n",
    "import os\n"
   ]
  },
  {
   "cell_type": "code",
   "execution_count": 51,
   "metadata": {},
   "outputs": [],
   "source": [
    "# 데이터 로드\n",
    "cp = os.getcwd()\n",
    "train = pd.read_csv(os.path.join(cp,'data/train.csv')).drop(['FLAG_MOBIL','index'], axis=1) # 변수 'FLAG_MOBIL','index' 제거\n",
    "test = pd.read_csv(os.path.join(cp,'data/test.csv')).drop(['FLAG_MOBIL','index'], axis=1) # 변수 'FLAG_MOBIL','index' 제거"
   ]
  },
  {
   "cell_type": "markdown",
   "metadata": {},
   "source": [
    "#### train, test 변수 전처리(DAYS_BIRTH, DAYS_EMPLOYED)"
   ]
  },
  {
   "cell_type": "code",
   "execution_count": 52,
   "metadata": {},
   "outputs": [],
   "source": [
    "\n",
    "train['DAYS_BIRTH'] = [i/-365 for i in train['DAYS_BIRTH']]\n",
    "\n",
    "# DAYS_EMPLOYED 오류데이터\n",
    "tmp = train[train['income_type']!='Pensioner']\n",
    "m20 = tmp[tmp['DAYS_BIRTH'] < 30]['DAYS_EMPLOYED'].mean() # 20 대 평균 고용일수\n",
    "m30 = tmp[(tmp['DAYS_BIRTH'] >= 30) & (tmp['DAYS_BIRTH'] < 40)]['DAYS_EMPLOYED'].mean() # 30 대 평균 고용일수\n",
    "m40 = tmp[(tmp['DAYS_BIRTH'] >= 40) & (tmp['DAYS_BIRTH'] < 50)]['DAYS_EMPLOYED'].mean() # 40 대 평균 고용일수\n",
    "m50 = tmp[(tmp['DAYS_BIRTH'] >= 50) & (tmp['DAYS_BIRTH'] < 60)]['DAYS_EMPLOYED'].mean() # 50 대 평균 고용일수\n",
    "m60 = tmp[tmp['DAYS_BIRTH'] >= 60]['DAYS_EMPLOYED'].mean() # 60 대 평균 고용일수\n",
    "\n",
    "train.loc[(train.income_type == 'Pensioner')&(train.DAYS_BIRTH < 30), 'DAYS_EMPLOYED'] = m20\n",
    "train.loc[(train.income_type == 'Pensioner')&(train.DAYS_BIRTH >= 30) & (train.DAYS_BIRTH < 40), 'DAYS_EMPLOYED'] = m30\n",
    "train.loc[(train.income_type == 'Pensioner')&(train.DAYS_BIRTH >= 40) & (train.DAYS_BIRTH < 50), 'DAYS_EMPLOYED'] = m40\n",
    "train.loc[(train.income_type == 'Pensioner')&(train.DAYS_BIRTH >= 50) & (train.DAYS_BIRTH < 60), 'DAYS_EMPLOYED'] = m50\n",
    "train.loc[(train.income_type == 'Pensioner')&(train.DAYS_BIRTH >= 60), 'DAYS_EMPLOYED'] = m60\n",
    "\n",
    "train['DAYS_EMPLOYED'] = [i/-365 for i in train['DAYS_EMPLOYED']]"
   ]
  },
  {
   "cell_type": "code",
   "execution_count": 75,
   "metadata": {},
   "outputs": [],
   "source": [
    "# 변수 전처리: DAYS_BIRTH, DAYS_EMPLOYED  \n",
    "test['DAYS_BIRTH'] = [i/-365 for i in test['DAYS_BIRTH']]\n",
    "\n",
    "# DAYS_EMPLOYED 오류데이터\n",
    "tmp = test[test['income_type']!='Pensioner']\n",
    "m20 = tmp[tmp['DAYS_BIRTH'] < 30]['DAYS_EMPLOYED'].mean() # 20 대 평균 고용일수\n",
    "m30 = tmp[(tmp['DAYS_BIRTH'] >= 30) & (tmp['DAYS_BIRTH'] < 40)]['DAYS_EMPLOYED'].mean() # 30 대 평균 고용일수\n",
    "m40 = tmp[(tmp['DAYS_BIRTH'] >= 40) & (tmp['DAYS_BIRTH'] < 50)]['DAYS_EMPLOYED'].mean() # 40 대 평균 고용일수\n",
    "m50 = tmp[(tmp['DAYS_BIRTH'] >= 50) & (tmp['DAYS_BIRTH'] < 60)]['DAYS_EMPLOYED'].mean() # 50 대 평균 고용일수\n",
    "m60 = tmp[tmp['DAYS_BIRTH'] >= 60]['DAYS_EMPLOYED'].mean() # 60 대 평균 고용일수\n",
    "\n",
    "test.loc[(test.income_type == 'Pensioner')&(test.DAYS_BIRTH < 30), 'DAYS_EMPLOYED'] = m20\n",
    "test.loc[(test.income_type == 'Pensioner')&(test.DAYS_BIRTH >= 30) & (test.DAYS_BIRTH < 40), 'DAYS_EMPLOYED'] = m30\n",
    "test.loc[(test.income_type == 'Pensioner')&(test.DAYS_BIRTH >= 40) & (test.DAYS_BIRTH < 50), 'DAYS_EMPLOYED'] = m40\n",
    "test.loc[(test.income_type == 'Pensioner')&(test.DAYS_BIRTH >= 50) & (test.DAYS_BIRTH < 60), 'DAYS_EMPLOYED'] = m50\n",
    "test.loc[(test.income_type == 'Pensioner')&(test.DAYS_BIRTH >= 60), 'DAYS_EMPLOYED'] = m60\n",
    "\n",
    "test['DAYS_EMPLOYED'] = [i/-365 for i in test['DAYS_EMPLOYED']]"
   ]
  },
  {
   "cell_type": "markdown",
   "metadata": {},
   "source": [
    "#### train, test 변수 전처리(occyp_type)"
   ]
  },
  {
   "cell_type": "code",
   "execution_count": 115,
   "metadata": {},
   "outputs": [],
   "source": [
    "train['occyp_type'] = [i if isinstance(i,str) else 'nojob' for i in train['occyp_type']]"
   ]
  },
  {
   "cell_type": "code",
   "execution_count": 116,
   "metadata": {},
   "outputs": [],
   "source": [
    "test['occyp_type'] = [i if isinstance(i,str) else 'nojob' for i in test['occyp_type']]"
   ]
  },
  {
   "cell_type": "markdown",
   "metadata": {},
   "source": [
    "#### train, test 변수 전처리(begin_month)"
   ]
  },
  {
   "cell_type": "code",
   "execution_count": 167,
   "metadata": {},
   "outputs": [],
   "source": [
    "train['begin_month'] = [i * -1 for i in train['begin_month']]"
   ]
  },
  {
   "cell_type": "code",
   "execution_count": 168,
   "metadata": {},
   "outputs": [],
   "source": [
    "test['begin_month'] = [i * -1 for i in test['begin_month']]"
   ]
  },
  {
   "cell_type": "markdown",
   "metadata": {},
   "source": [
    "##  label 별로 변수 탐색"
   ]
  },
  {
   "cell_type": "code",
   "execution_count": 169,
   "metadata": {},
   "outputs": [],
   "source": [
    "first = train[train['credit']==0]\n",
    "second = train[train['credit']==1]\n",
    "third = train[train['credit']==2]"
   ]
  },
  {
   "cell_type": "code",
   "execution_count": 40,
   "metadata": {},
   "outputs": [
    {
     "data": {
      "text/plain": [
       "<BarContainer object of 3 artists>"
      ]
     },
     "execution_count": 40,
     "metadata": {},
     "output_type": "execute_result"
    },
    {
     "data": {
      "image/png": "[encoded data removed]",
      "text/plain": [
       "<Figure size 432x288 with 1 Axes>"
      ]
     },
     "metadata": {
      "needs_background": "light"
     },
     "output_type": "display_data"
    }
   ],
   "source": [
    "plt.bar(x=['first','second','third'], height=[first.shape[0], second.shape[0], third.shape[0]])"
   ]
  },
  {
   "cell_type": "markdown",
   "metadata": {},
   "source": [
    "-> 신용도는 위와 같은 분포를 보임. 신용도가 높으신 분들이 확실히 적음."
   ]
  },
  {
   "cell_type": "markdown",
   "metadata": {},
   "source": [
    "# gender"
   ]
  },
  {
   "cell_type": "markdown",
   "metadata": {},
   "source": [
    "#### train set"
   ]
  },
  {
   "cell_type": "code",
   "execution_count": 15,
   "metadata": {
    "scrolled": true
   },
   "outputs": [
    {
     "data": {
      "text/plain": [
       "<BarContainer object of 2 artists>"
      ]
     },
     "execution_count": 15,
     "metadata": {},
     "output_type": "execute_result"
    },
    {
     "data": {
      "image/png": "[encoded data removed]",
      "text/plain": [
       "<Figure size 432x288 with 1 Axes>"
      ]
     },
     "metadata": {
      "needs_background": "light"
     },
     "output_type": "display_data"
    }
   ],
   "source": [
    "plt.bar(height = Counter(train['gender']).values(), x = Counter(train['gender']).keys())"
   ]
  },
  {
   "cell_type": "markdown",
   "metadata": {},
   "source": [
    "-> 여자가 더 많음."
   ]
  },
  {
   "cell_type": "markdown",
   "metadata": {},
   "source": [
    "#### label 별로 확인"
   ]
  },
  {
   "cell_type": "code",
   "execution_count": 68,
   "metadata": {},
   "outputs": [
    {
     "data": {
      "image/png": "[encoded data removed]",
      "text/plain": [
       "<Figure size 432x288 with 1 Axes>"
      ]
     },
     "metadata": {
      "needs_background": "light"
     },
     "output_type": "display_data"
    }
   ],
   "source": [
    "data1 = Counter(first['gender'])['M'], Counter(second['gender'])['M'], Counter(third['gender'])['M']\n",
    "data2 = Counter(first['gender'])['F'], Counter(second['gender'])['F'], Counter(third['gender'])['F']\n",
    "width = 0.3\n",
    "length = np.arange(len(data1))\n",
    "plt.bar(length, data1, width=width, label='M')\n",
    "plt.bar(length+ width, data2, width=width, label='F')\n",
    "plt.legend()\n",
    "plt.xticks(length, ['0', '1', '2'])\n",
    "plt.show()"
   ]
  },
  {
   "cell_type": "markdown",
   "metadata": {},
   "source": [
    "#### test set"
   ]
  },
  {
   "cell_type": "code",
   "execution_count": 41,
   "metadata": {},
   "outputs": [
    {
     "data": {
      "text/plain": [
       "<BarContainer object of 2 artists>"
      ]
     },
     "execution_count": 41,
     "metadata": {},
     "output_type": "execute_result"
    },
    {
     "data": {
      "image/png": "[encoded data removed]",
      "text/plain": [
       "<Figure size 432x288 with 1 Axes>"
      ]
     },
     "metadata": {
      "needs_background": "light"
     },
     "output_type": "display_data"
    }
   ],
   "source": [
    "plt.bar(height = Counter(test['gender']).values(), x = Counter(test['gender']).keys())"
   ]
  },
  {
   "cell_type": "markdown",
   "metadata": {},
   "source": [
    "-> 마찬가지로 여자가 더 많음"
   ]
  },
  {
   "cell_type": "markdown",
   "metadata": {},
   "source": [
    "# car"
   ]
  },
  {
   "cell_type": "markdown",
   "metadata": {},
   "source": [
    "#### train set"
   ]
  },
  {
   "cell_type": "code",
   "execution_count": 71,
   "metadata": {},
   "outputs": [
    {
     "data": {
      "text/plain": [
       "<BarContainer object of 2 artists>"
      ]
     },
     "execution_count": 71,
     "metadata": {},
     "output_type": "execute_result"
    },
    {
     "data": {
      "image/png": "[encoded data removed]",
      "text/plain": [
       "<Figure size 432x288 with 1 Axes>"
      ]
     },
     "metadata": {
      "needs_background": "light"
     },
     "output_type": "display_data"
    }
   ],
   "source": [
    "plt.bar(height = Counter(train['car']).values(), x = Counter(train['car']).keys())"
   ]
  },
  {
   "cell_type": "markdown",
   "metadata": {},
   "source": [
    "-> 차량이 없는 경우가 더 많음."
   ]
  },
  {
   "cell_type": "markdown",
   "metadata": {},
   "source": [
    "#### label 별로 확인"
   ]
  },
  {
   "cell_type": "code",
   "execution_count": 73,
   "metadata": {},
   "outputs": [
    {
     "data": {
      "image/png": "[encoded data removed]",
      "text/plain": [
       "<Figure size 432x288 with 1 Axes>"
      ]
     },
     "metadata": {
      "needs_background": "light"
     },
     "output_type": "display_data"
    }
   ],
   "source": [
    "data1 = Counter(first['car'])['N'], Counter(second['car'])['N'], Counter(third['car'])['N']\n",
    "data2 = Counter(first['car'])['Y'], Counter(second['car'])['Y'], Counter(third['car'])['Y']\n",
    "width = 0.3\n",
    "length = np.arange(len(data1))\n",
    "plt.bar(length, data1, width=width, label='N')\n",
    "plt.bar(length+ width, data2, width=width, label='Y')\n",
    "plt.legend()\n",
    "plt.xticks(length, ['0', '1', '2'])\n",
    "plt.show()"
   ]
  },
  {
   "cell_type": "markdown",
   "metadata": {},
   "source": [
    "-> 전체적으로 봤을 때 대비해서 골고루 분포되어 있음"
   ]
  },
  {
   "cell_type": "markdown",
   "metadata": {},
   "source": [
    "#### test set"
   ]
  },
  {
   "cell_type": "code",
   "execution_count": 74,
   "metadata": {},
   "outputs": [
    {
     "data": {
      "text/plain": [
       "<BarContainer object of 2 artists>"
      ]
     },
     "execution_count": 74,
     "metadata": {},
     "output_type": "execute_result"
    },
    {
     "data": {
      "image/png": "[encoded data removed]",
      "text/plain": [
       "<Figure size 432x288 with 1 Axes>"
      ]
     },
     "metadata": {
      "needs_background": "light"
     },
     "output_type": "display_data"
    }
   ],
   "source": [
    "plt.bar(height = Counter(test['car']).values(), x = Counter(test['car']).keys())"
   ]
  },
  {
   "cell_type": "markdown",
   "metadata": {},
   "source": [
    "-> 마찬가지로 차량이 없는 경우가 더 많음."
   ]
  },
  {
   "cell_type": "markdown",
   "metadata": {},
   "source": [
    "# reality"
   ]
  },
  {
   "cell_type": "markdown",
   "metadata": {},
   "source": [
    "#### train set"
   ]
  },
  {
   "cell_type": "code",
   "execution_count": 75,
   "metadata": {},
   "outputs": [
    {
     "data": {
      "text/plain": [
       "<BarContainer object of 2 artists>"
      ]
     },
     "execution_count": 75,
     "metadata": {},
     "output_type": "execute_result"
    },
    {
     "data": {
      "image/png": "[encoded data removed]",
      "text/plain": [
       "<Figure size 432x288 with 1 Axes>"
      ]
     },
     "metadata": {
      "needs_background": "light"
     },
     "output_type": "display_data"
    }
   ],
   "source": [
    "plt.bar(height = Counter(train['reality']).values(), x = Counter(train['reality']).keys())"
   ]
  },
  {
   "cell_type": "markdown",
   "metadata": {},
   "source": [
    "-> 부동산 소유한 사람이 더 많음."
   ]
  },
  {
   "cell_type": "markdown",
   "metadata": {},
   "source": [
    "#### label 별로 확인"
   ]
  },
  {
   "cell_type": "code",
   "execution_count": 76,
   "metadata": {},
   "outputs": [
    {
     "data": {
      "image/png": "[encoded data removed]",
      "text/plain": [
       "<Figure size 432x288 with 1 Axes>"
      ]
     },
     "metadata": {
      "needs_background": "light"
     },
     "output_type": "display_data"
    }
   ],
   "source": [
    "data1 = Counter(first['reality'])['N'], Counter(second['reality'])['N'], Counter(third['reality'])['N']\n",
    "data2 = Counter(first['reality'])['Y'], Counter(second['reality'])['Y'], Counter(third['reality'])['Y']\n",
    "width = 0.3\n",
    "length = np.arange(len(data1))\n",
    "plt.bar(length, data1, width=width, label='N')\n",
    "plt.bar(length+ width, data2, width=width, label='Y')\n",
    "plt.legend()\n",
    "plt.xticks(length, ['0', '1', '2'])\n",
    "plt.show()"
   ]
  },
  {
   "cell_type": "markdown",
   "metadata": {},
   "source": [
    "-> 라벨 별로도 부동산을 소유한 사람이 더 많음."
   ]
  },
  {
   "cell_type": "markdown",
   "metadata": {},
   "source": [
    "#### test set"
   ]
  },
  {
   "cell_type": "code",
   "execution_count": 77,
   "metadata": {},
   "outputs": [
    {
     "data": {
      "text/plain": [
       "<BarContainer object of 2 artists>"
      ]
     },
     "execution_count": 77,
     "metadata": {},
     "output_type": "execute_result"
    },
    {
     "data": {
      "image/png": "[encoded data removed]",
      "text/plain": [
       "<Figure size 432x288 with 1 Axes>"
      ]
     },
     "metadata": {
      "needs_background": "light"
     },
     "output_type": "display_data"
    }
   ],
   "source": [
    "plt.bar(height = Counter(test['reality']).values(), x = Counter(test['reality']).keys())"
   ]
  },
  {
   "cell_type": "markdown",
   "metadata": {},
   "source": [
    "-> 마찬가지로 부동산을 소유한 사람이 더 많음."
   ]
  },
  {
   "cell_type": "markdown",
   "metadata": {},
   "source": [
    "# child_num"
   ]
  },
  {
   "cell_type": "markdown",
   "metadata": {},
   "source": [
    "#### train set"
   ]
  },
  {
   "cell_type": "code",
   "execution_count": 82,
   "metadata": {},
   "outputs": [
    {
     "data": {
      "text/plain": [
       "<BarContainer object of 9 artists>"
      ]
     },
     "execution_count": 82,
     "metadata": {},
     "output_type": "execute_result"
    },
    {
     "data": {
      "image/png": "[encoded data removed]",
      "text/plain": [
       "<Figure size 432x288 with 1 Axes>"
      ]
     },
     "metadata": {
      "needs_background": "light"
     },
     "output_type": "display_data"
    }
   ],
   "source": [
    "plt.bar(height = Counter(train['child_num']).values(), x = Counter(train['child_num']).keys())"
   ]
  },
  {
   "cell_type": "code",
   "execution_count": 87,
   "metadata": {},
   "outputs": [
    {
     "data": {
      "text/plain": [
       "Counter({0: 18340, 1: 5386, 2: 2362, 3: 306, 4: 47, 5: 10, 14: 3, 19: 1, 7: 2})"
      ]
     },
     "execution_count": 87,
     "metadata": {},
     "output_type": "execute_result"
    }
   ],
   "source": [
    "Counter(train['child_num'])"
   ]
  },
  {
   "cell_type": "markdown",
   "metadata": {},
   "source": [
    "-> 자녀가 없는 경우가 대다수이며 1, 2명 정도가 그다음으로 많음."
   ]
  },
  {
   "cell_type": "markdown",
   "metadata": {},
   "source": [
    "#### label 별로 확인"
   ]
  },
  {
   "cell_type": "code",
   "execution_count": 84,
   "metadata": {},
   "outputs": [
    {
     "data": {
      "text/plain": [
       "<BarContainer object of 6 artists>"
      ]
     },
     "execution_count": 84,
     "metadata": {},
     "output_type": "execute_result"
    },
    {
     "data": {
      "image/png": "[encoded data removed]",
      "text/plain": [
       "<Figure size 432x288 with 1 Axes>"
      ]
     },
     "metadata": {
      "needs_background": "light"
     },
     "output_type": "display_data"
    }
   ],
   "source": [
    "plt.bar(height = Counter(first['child_num']).values(), x = Counter(first['child_num']).keys())"
   ]
  },
  {
   "cell_type": "code",
   "execution_count": 85,
   "metadata": {},
   "outputs": [
    {
     "data": {
      "text/plain": [
       "<BarContainer object of 6 artists>"
      ]
     },
     "execution_count": 85,
     "metadata": {},
     "output_type": "execute_result"
    },
    {
     "data": {
      "image/png": "[encoded data removed]",
      "text/plain": [
       "<Figure size 432x288 with 1 Axes>"
      ]
     },
     "metadata": {
      "needs_background": "light"
     },
     "output_type": "display_data"
    }
   ],
   "source": [
    "plt.bar(height = Counter(second['child_num']).values(), x = Counter(second['child_num']).keys())"
   ]
  },
  {
   "cell_type": "code",
   "execution_count": 86,
   "metadata": {},
   "outputs": [
    {
     "data": {
      "text/plain": [
       "<BarContainer object of 9 artists>"
      ]
     },
     "execution_count": 86,
     "metadata": {},
     "output_type": "execute_result"
    },
    {
     "data": {
      "image/png": "[encoded data removed]",
      "text/plain": [
       "<Figure size 432x288 with 1 Axes>"
      ]
     },
     "metadata": {
      "needs_background": "light"
     },
     "output_type": "display_data"
    }
   ],
   "source": [
    "plt.bar(height = Counter(third['child_num']).values(), x = Counter(third['child_num']).keys())"
   ]
  },
  {
   "cell_type": "markdown",
   "metadata": {},
   "source": [
    "-> 라벨별로도 자녀가 0,1,2 명인 경우가 차례로 많음."
   ]
  },
  {
   "cell_type": "code",
   "execution_count": 83,
   "metadata": {},
   "outputs": [
    {
     "data": {
      "text/plain": [
       "Counter({0: 2233, 1: 682, 2: 268, 4: 8, 3: 29, 5: 2})"
      ]
     },
     "execution_count": 83,
     "metadata": {},
     "output_type": "execute_result"
    }
   ],
   "source": [
    "Counter(first['child_num'])"
   ]
  },
  {
   "cell_type": "markdown",
   "metadata": {},
   "source": [
    "#### test set"
   ]
  },
  {
   "cell_type": "code",
   "execution_count": 88,
   "metadata": {},
   "outputs": [
    {
     "data": {
      "text/plain": [
       "<BarContainer object of 6 artists>"
      ]
     },
     "execution_count": 88,
     "metadata": {},
     "output_type": "execute_result"
    },
    {
     "data": {
      "image/png": "[encoded data removed]",
      "text/plain": [
       "<Figure size 432x288 with 1 Axes>"
      ]
     },
     "metadata": {
      "needs_background": "light"
     },
     "output_type": "display_data"
    }
   ],
   "source": [
    "plt.bar(height = Counter(test['child_num']).values(), x = Counter(test['child_num']).keys())"
   ]
  },
  {
   "cell_type": "markdown",
   "metadata": {},
   "source": [
    "-> 마찬가지로 train set 과 비슷한 양상을 보임"
   ]
  },
  {
   "cell_type": "markdown",
   "metadata": {},
   "source": [
    "# income_total"
   ]
  },
  {
   "cell_type": "markdown",
   "metadata": {},
   "source": [
    "#### train set"
   ]
  },
  {
   "cell_type": "code",
   "execution_count": 123,
   "metadata": {},
   "outputs": [
    {
     "data": {
      "text/html": [
       "<div>\n",
       "<style scoped>\n",
       "    .dataframe tbody tr th:only-of-type {\n",
       "        vertical-align: middle;\n",
       "    }\n",
       "\n",
       "    .dataframe tbody tr th {\n",
       "        vertical-align: top;\n",
       "    }\n",
       "\n",
       "    .dataframe thead th {\n",
       "        text-align: right;\n",
       "    }\n",
       "</style>\n",
       "<table border=\"1\" class=\"dataframe\">\n",
       "  <thead>\n",
       "    <tr style=\"text-align: right;\">\n",
       "      <th></th>\n",
       "      <th>income_total</th>\n",
       "    </tr>\n",
       "  </thead>\n",
       "  <tbody>\n",
       "    <tr>\n",
       "      <th>count</th>\n",
       "      <td>26457.00</td>\n",
       "    </tr>\n",
       "    <tr>\n",
       "      <th>mean</th>\n",
       "      <td>187306.52</td>\n",
       "    </tr>\n",
       "    <tr>\n",
       "      <th>std</th>\n",
       "      <td>101878.37</td>\n",
       "    </tr>\n",
       "    <tr>\n",
       "      <th>min</th>\n",
       "      <td>27000.00</td>\n",
       "    </tr>\n",
       "    <tr>\n",
       "      <th>25%</th>\n",
       "      <td>121500.00</td>\n",
       "    </tr>\n",
       "    <tr>\n",
       "      <th>50%</th>\n",
       "      <td>157500.00</td>\n",
       "    </tr>\n",
       "    <tr>\n",
       "      <th>75%</th>\n",
       "      <td>225000.00</td>\n",
       "    </tr>\n",
       "    <tr>\n",
       "      <th>max</th>\n",
       "      <td>1575000.00</td>\n",
       "    </tr>\n",
       "  </tbody>\n",
       "</table>\n",
       "</div>"
      ],
      "text/plain": [
       "       income_total\n",
       "count      26457.00\n",
       "mean      187306.52\n",
       "std       101878.37\n",
       "min        27000.00\n",
       "25%       121500.00\n",
       "50%       157500.00\n",
       "75%       225000.00\n",
       "max      1575000.00"
      ]
     },
     "execution_count": 123,
     "metadata": {},
     "output_type": "execute_result"
    }
   ],
   "source": [
    "pd.DataFrame(train[['income_total']].describe()['income_total'].round(2))"
   ]
  },
  {
   "cell_type": "markdown",
   "metadata": {},
   "source": [
    "#### label 별로 확인"
   ]
  },
  {
   "cell_type": "code",
   "execution_count": 124,
   "metadata": {},
   "outputs": [
    {
     "data": {
      "text/html": [
       "<div>\n",
       "<style scoped>\n",
       "    .dataframe tbody tr th:only-of-type {\n",
       "        vertical-align: middle;\n",
       "    }\n",
       "\n",
       "    .dataframe tbody tr th {\n",
       "        vertical-align: top;\n",
       "    }\n",
       "\n",
       "    .dataframe thead th {\n",
       "        text-align: right;\n",
       "    }\n",
       "</style>\n",
       "<table border=\"1\" class=\"dataframe\">\n",
       "  <thead>\n",
       "    <tr style=\"text-align: right;\">\n",
       "      <th></th>\n",
       "      <th>0</th>\n",
       "      <th>1</th>\n",
       "      <th>2</th>\n",
       "    </tr>\n",
       "  </thead>\n",
       "  <tbody>\n",
       "    <tr>\n",
       "      <th>count</th>\n",
       "      <td>3222.00</td>\n",
       "      <td>6267.00</td>\n",
       "      <td>16968.00</td>\n",
       "    </tr>\n",
       "    <tr>\n",
       "      <th>mean</th>\n",
       "      <td>190807.58</td>\n",
       "      <td>181122.70</td>\n",
       "      <td>188925.67</td>\n",
       "    </tr>\n",
       "    <tr>\n",
       "      <th>std</th>\n",
       "      <td>102139.55</td>\n",
       "      <td>92548.26</td>\n",
       "      <td>104981.73</td>\n",
       "    </tr>\n",
       "    <tr>\n",
       "      <th>min</th>\n",
       "      <td>29250.00</td>\n",
       "      <td>27000.00</td>\n",
       "      <td>27000.00</td>\n",
       "    </tr>\n",
       "    <tr>\n",
       "      <th>25%</th>\n",
       "      <td>126000.00</td>\n",
       "      <td>117000.00</td>\n",
       "      <td>121500.00</td>\n",
       "    </tr>\n",
       "    <tr>\n",
       "      <th>50%</th>\n",
       "      <td>162000.00</td>\n",
       "      <td>157500.00</td>\n",
       "      <td>157500.00</td>\n",
       "    </tr>\n",
       "    <tr>\n",
       "      <th>75%</th>\n",
       "      <td>225000.00</td>\n",
       "      <td>225000.00</td>\n",
       "      <td>225000.00</td>\n",
       "    </tr>\n",
       "    <tr>\n",
       "      <th>max</th>\n",
       "      <td>945000.00</td>\n",
       "      <td>1125000.00</td>\n",
       "      <td>1575000.00</td>\n",
       "    </tr>\n",
       "  </tbody>\n",
       "</table>\n",
       "</div>"
      ],
      "text/plain": [
       "               0           1           2\n",
       "count    3222.00     6267.00    16968.00\n",
       "mean   190807.58   181122.70   188925.67\n",
       "std    102139.55    92548.26   104981.73\n",
       "min     29250.00    27000.00    27000.00\n",
       "25%    126000.00   117000.00   121500.00\n",
       "50%    162000.00   157500.00   157500.00\n",
       "75%    225000.00   225000.00   225000.00\n",
       "max    945000.00  1125000.00  1575000.00"
      ]
     },
     "execution_count": 124,
     "metadata": {},
     "output_type": "execute_result"
    }
   ],
   "source": [
    "tmp=[]\n",
    "idx = first[['income_total']].describe().index\n",
    "tmp.append(list(first[['income_total']].describe()['income_total'].round(2)))\n",
    "tmp.append(list(second[['income_total']].describe()['income_total'].round(2)))\n",
    "tmp.append(list(third[['income_total']].describe()['income_total'].round(2)))\n",
    "tmp_df = pd.DataFrame(tmp).T\n",
    "tmp_df.index = idx\n",
    "tmp_df"
   ]
  },
  {
   "cell_type": "markdown",
   "metadata": {},
   "source": [
    "-> 라벨이 0인 경우)\n",
    "    - 평균이 가장 큼.\n",
    "    - 중앙값도 가장 큼.\n",
    "    - min 값은 가장 크고, max 값은 가장 작음.\n",
    "\n",
    "-> 라벨이 1인 경우)\n",
    "    - 평균이 가장 작음.\n",
    "    - 편차가 가장 적음.\n",
    "\n",
    "-> 라벨이 2인 경우)\n",
    "    - 편차가 큰 편임.\n",
    "    - max 값이 가장 큼.\n",
    "    \n",
    "**=> 군집을 나누기에는 라벨별로 차이가 크지 않음.**"
   ]
  },
  {
   "cell_type": "markdown",
   "metadata": {},
   "source": [
    "#### test set"
   ]
  },
  {
   "cell_type": "code",
   "execution_count": 125,
   "metadata": {},
   "outputs": [
    {
     "data": {
      "text/html": [
       "<div>\n",
       "<style scoped>\n",
       "    .dataframe tbody tr th:only-of-type {\n",
       "        vertical-align: middle;\n",
       "    }\n",
       "\n",
       "    .dataframe tbody tr th {\n",
       "        vertical-align: top;\n",
       "    }\n",
       "\n",
       "    .dataframe thead th {\n",
       "        text-align: right;\n",
       "    }\n",
       "</style>\n",
       "<table border=\"1\" class=\"dataframe\">\n",
       "  <thead>\n",
       "    <tr style=\"text-align: right;\">\n",
       "      <th></th>\n",
       "      <th>income_total</th>\n",
       "    </tr>\n",
       "  </thead>\n",
       "  <tbody>\n",
       "    <tr>\n",
       "      <th>count</th>\n",
       "      <td>10000.00</td>\n",
       "    </tr>\n",
       "    <tr>\n",
       "      <th>mean</th>\n",
       "      <td>185043.32</td>\n",
       "    </tr>\n",
       "    <tr>\n",
       "      <th>std</th>\n",
       "      <td>101539.79</td>\n",
       "    </tr>\n",
       "    <tr>\n",
       "      <th>min</th>\n",
       "      <td>27000.00</td>\n",
       "    </tr>\n",
       "    <tr>\n",
       "      <th>25%</th>\n",
       "      <td>121500.00</td>\n",
       "    </tr>\n",
       "    <tr>\n",
       "      <th>50%</th>\n",
       "      <td>157500.00</td>\n",
       "    </tr>\n",
       "    <tr>\n",
       "      <th>75%</th>\n",
       "      <td>225000.00</td>\n",
       "    </tr>\n",
       "    <tr>\n",
       "      <th>max</th>\n",
       "      <td>1575000.00</td>\n",
       "    </tr>\n",
       "  </tbody>\n",
       "</table>\n",
       "</div>"
      ],
      "text/plain": [
       "       income_total\n",
       "count      10000.00\n",
       "mean      185043.32\n",
       "std       101539.79\n",
       "min        27000.00\n",
       "25%       121500.00\n",
       "50%       157500.00\n",
       "75%       225000.00\n",
       "max      1575000.00"
      ]
     },
     "execution_count": 125,
     "metadata": {},
     "output_type": "execute_result"
    }
   ],
   "source": [
    "pd.DataFrame(test[['income_total']].describe()['income_total'].round(2))"
   ]
  },
  {
   "cell_type": "markdown",
   "metadata": {},
   "source": [
    "-> train set 과 비슷한 값을 띄는 양상을 보임."
   ]
  },
  {
   "cell_type": "markdown",
   "metadata": {},
   "source": [
    "# income_type"
   ]
  },
  {
   "cell_type": "markdown",
   "metadata": {},
   "source": [
    "#### train set"
   ]
  },
  {
   "cell_type": "code",
   "execution_count": 129,
   "metadata": {},
   "outputs": [
    {
     "data": {
      "text/plain": [
       "([0, 1, 2, 3, 4], <a list of 5 Text xticklabel objects>)"
      ]
     },
     "execution_count": 129,
     "metadata": {},
     "output_type": "execute_result"
    },
    {
     "data": {
      "image/png": "[encoded data removed]",
      "text/plain": [
       "<Figure size 432x288 with 1 Axes>"
      ]
     },
     "metadata": {
      "needs_background": "light"
     },
     "output_type": "display_data"
    }
   ],
   "source": [
    "plt.bar(height = Counter(train['income_type']).values(), x = Counter(train['income_type']).keys())\n",
    "plt.xticks(rotation=45)"
   ]
  },
  {
   "cell_type": "markdown",
   "metadata": {},
   "source": [
    "#### label 별로 확인"
   ]
  },
  {
   "cell_type": "code",
   "execution_count": 132,
   "metadata": {},
   "outputs": [
    {
     "data": {
      "text/plain": [
       "Counter({'Commercial associate': 6202,\n",
       "         'Working': 13645,\n",
       "         'State servant': 2154,\n",
       "         'Pensioner': 4449,\n",
       "         'Student': 7})"
      ]
     },
     "execution_count": 132,
     "metadata": {},
     "output_type": "execute_result"
    }
   ],
   "source": [
    "Counter(train['income_type'])"
   ]
  },
  {
   "cell_type": "code",
   "execution_count": 141,
   "metadata": {},
   "outputs": [
    {
     "data": {
      "image/png": "[encoded data removed]",
      "text/plain": [
       "<Figure size 432x288 with 1 Axes>"
      ]
     },
     "metadata": {
      "needs_background": "light"
     },
     "output_type": "display_data"
    }
   ],
   "source": [
    "data1 = Counter(first['income_type'])['Commercial associate'], Counter(second['income_type'])['Commercial associate'], Counter(third['income_type'])['Commercial associate']\n",
    "data2 = Counter(first['income_type'])['Working'], Counter(second['income_type'])['Working'], Counter(third['income_type'])['Working']\n",
    "data3 = Counter(first['income_type'])['State servant'], Counter(second['income_type'])['State servant'], Counter(third['income_type'])['State servant']\n",
    "data4 = Counter(first['income_type'])['Pensioner'], Counter(second['income_type'])['Pensioner'], Counter(third['income_type'])['Pensioner']\n",
    "data5 = Counter(first['income_type'])['Student'], Counter(second['income_type'])['Student'], Counter(third['income_type'])['Student']\n",
    "\n",
    "width = 0.1\n",
    "length = np.arange(len(data1))\n",
    "plt.bar(length, data1, width=width, label='Commercial associate')\n",
    "plt.bar(length+ width, data2, width=width, label='Working')\n",
    "plt.bar(length+ width+ width, data3, width=width, label='State servant')\n",
    "plt.bar(length+ width+ width+ width, data4, width=width, label='Pensioner')\n",
    "plt.bar(length+ width+ width+ width+ width, data5, width=width, label='Student')\n",
    "\n",
    "\n",
    "plt.legend()\n",
    "plt.xticks(length, ['0', '1', '2'])\n",
    "plt.show()"
   ]
  },
  {
   "cell_type": "markdown",
   "metadata": {},
   "source": [
    "-> label 별로 비슷한 양상을 보임."
   ]
  },
  {
   "cell_type": "markdown",
   "metadata": {},
   "source": [
    "#### test set"
   ]
  },
  {
   "cell_type": "code",
   "execution_count": 142,
   "metadata": {},
   "outputs": [
    {
     "data": {
      "text/plain": [
       "([0, 1, 2, 3, 4], <a list of 5 Text xticklabel objects>)"
      ]
     },
     "execution_count": 142,
     "metadata": {},
     "output_type": "execute_result"
    },
    {
     "data": {
      "image/png": "[encoded data removed]",
      "text/plain": [
       "<Figure size 432x288 with 1 Axes>"
      ]
     },
     "metadata": {
      "needs_background": "light"
     },
     "output_type": "display_data"
    }
   ],
   "source": [
    "plt.bar(height = Counter(test['income_type']).values(), x = Counter(test['income_type']).keys())\n",
    "plt.xticks(rotation=45)"
   ]
  },
  {
   "cell_type": "markdown",
   "metadata": {},
   "source": [
    "-> train set과 비슷한 양상을 보이고 있음."
   ]
  },
  {
   "cell_type": "markdown",
   "metadata": {},
   "source": [
    "# edu_type"
   ]
  },
  {
   "cell_type": "markdown",
   "metadata": {},
   "source": [
    "#### train set"
   ]
  },
  {
   "cell_type": "code",
   "execution_count": 147,
   "metadata": {},
   "outputs": [
    {
     "data": {
      "text/plain": [
       "([0, 1, 2, 3, 4], <a list of 5 Text xticklabel objects>)"
      ]
     },
     "execution_count": 147,
     "metadata": {},
     "output_type": "execute_result"
    },
    {
     "data": {
      "image/png": "[encoded data removed]",
      "text/plain": [
       "<Figure size 432x288 with 1 Axes>"
      ]
     },
     "metadata": {
      "needs_background": "light"
     },
     "output_type": "display_data"
    }
   ],
   "source": [
    "plt.bar(height = Counter(sorted(train['edu_type'])).values(), x = Counter(sorted(train['edu_type'])).keys())\n",
    "plt.xticks(rotation=45)"
   ]
  },
  {
   "cell_type": "code",
   "execution_count": 149,
   "metadata": {},
   "outputs": [
    {
     "data": {
      "text/plain": [
       "dict_keys(['Academic degree', 'Higher education', 'Incomplete higher', 'Lower secondary', 'Secondary / secondary special'])"
      ]
     },
     "execution_count": 149,
     "metadata": {},
     "output_type": "execute_result"
    }
   ],
   "source": [
    "Counter(sorted(train['edu_type'])).keys()"
   ]
  },
  {
   "cell_type": "markdown",
   "metadata": {},
   "source": [
    "#### label 별로 확인"
   ]
  },
  {
   "cell_type": "code",
   "execution_count": 158,
   "metadata": {},
   "outputs": [
    {
     "data": {
      "image/png": "[encoded data removed]",
      "text/plain": [
       "<Figure size 432x288 with 1 Axes>"
      ]
     },
     "metadata": {
      "needs_background": "light"
     },
     "output_type": "display_data"
    }
   ],
   "source": [
    "data1 = Counter(first['edu_type'])['Academic degree'], Counter(second['edu_type'])['Academic degree'], Counter(third['edu_type'])['Academic degree']\n",
    "data2 = Counter(first['edu_type'])['Higher education'], Counter(second['edu_type'])['Higher education'], Counter(third['edu_type'])['Higher education']\n",
    "data3 = Counter(first['edu_type'])['Incomplete higher'], Counter(second['edu_type'])['Incomplete higher'], Counter(third['edu_type'])['Incomplete higher']\n",
    "data4 = Counter(first['edu_type'])['Lower secondary'], Counter(second['edu_type'])['Lower secondary'], Counter(third['edu_type'])['Lower secondary']\n",
    "data5 = Counter(first['edu_type'])['Secondary / secondary special'], Counter(second['edu_type'])['Secondary / secondary special'], Counter(third['edu_type'])['Secondary / secondary special']\n",
    "\n",
    "width = 0.1\n",
    "length = np.arange(len(data1))\n",
    "plt.bar(length, data1, width=width, label='Academic degree')\n",
    "plt.bar(length+ width, data2, width=width, label='Higher education')\n",
    "plt.bar(length+ width+ width, data3, width=width, label='Incomplete higher')\n",
    "plt.bar(length+ width+ width+ width, data4, width=width, label='Lower secondary')\n",
    "plt.bar(length+ width+ width+ width+ width, data5, width=width, label='Secondary / secondary special')\n",
    "\n",
    "\n",
    "plt.legend()\n",
    "plt.xticks(length, ['0', '1', '2'])\n",
    "plt.show()"
   ]
  },
  {
   "cell_type": "markdown",
   "metadata": {},
   "source": [
    "-> label 별로 유사한 양상을 띄고 있다. 순서도 모두 동일하게 분포하고 있다."
   ]
  },
  {
   "cell_type": "markdown",
   "metadata": {},
   "source": [
    "#### test set"
   ]
  },
  {
   "cell_type": "code",
   "execution_count": 148,
   "metadata": {},
   "outputs": [
    {
     "data": {
      "text/plain": [
       "([0, 1, 2, 3, 4], <a list of 5 Text xticklabel objects>)"
      ]
     },
     "execution_count": 148,
     "metadata": {},
     "output_type": "execute_result"
    },
    {
     "data": {
      "image/png": "[encoded data removed]",
      "text/plain": [
       "<Figure size 432x288 with 1 Axes>"
      ]
     },
     "metadata": {
      "needs_background": "light"
     },
     "output_type": "display_data"
    }
   ],
   "source": [
    "plt.bar(height = Counter(sorted(test['edu_type'])).values(), x = Counter(sorted(test['edu_type'])).keys())\n",
    "plt.xticks(rotation=45)"
   ]
  },
  {
   "cell_type": "markdown",
   "metadata": {},
   "source": [
    "-> train set과 변수의 순서가 동일하게 분포한다."
   ]
  },
  {
   "cell_type": "markdown",
   "metadata": {},
   "source": [
    "# family_type"
   ]
  },
  {
   "cell_type": "markdown",
   "metadata": {},
   "source": [
    "#### train set"
   ]
  },
  {
   "cell_type": "code",
   "execution_count": 160,
   "metadata": {},
   "outputs": [
    {
     "data": {
      "text/plain": [
       "([0, 1, 2, 3, 4], <a list of 5 Text xticklabel objects>)"
      ]
     },
     "execution_count": 160,
     "metadata": {},
     "output_type": "execute_result"
    },
    {
     "data": {
      "image/png": "[encoded data removed]",
      "text/plain": [
       "<Figure size 432x288 with 1 Axes>"
      ]
     },
     "metadata": {
      "needs_background": "light"
     },
     "output_type": "display_data"
    }
   ],
   "source": [
    "plt.bar(height = Counter(sorted(train['family_type'])).values(), x = Counter(sorted(train['family_type'])).keys())\n",
    "plt.xticks(rotation=45)"
   ]
  },
  {
   "cell_type": "markdown",
   "metadata": {},
   "source": [
    "-> Married 가 가장 많고 나머지는 비슷비슷한 분포를 띔."
   ]
  },
  {
   "cell_type": "markdown",
   "metadata": {},
   "source": [
    "#### label 별로 확인."
   ]
  },
  {
   "cell_type": "code",
   "execution_count": 162,
   "metadata": {},
   "outputs": [
    {
     "data": {
      "image/png": "[encoded data removed]",
      "text/plain": [
       "<Figure size 432x288 with 1 Axes>"
      ]
     },
     "metadata": {
      "needs_background": "light"
     },
     "output_type": "display_data"
    }
   ],
   "source": [
    "data1 = Counter(first['family_type'])['Civil marriage'], Counter(second['family_type'])['Civil marriage'], Counter(third['family_type'])['Civil marriage']\n",
    "data2 = Counter(first['family_type'])['Married'], Counter(second['family_type'])['Married'], Counter(third['family_type'])['Married']\n",
    "data3 = Counter(first['family_type'])['Separated'], Counter(second['family_type'])['Separated'], Counter(third['family_type'])['Separated']\n",
    "data4 = Counter(first['family_type'])['Single / not married'], Counter(second['family_type'])['Single / not married'], Counter(third['family_type'])['Single / not married']\n",
    "data5 = Counter(first['family_type'])['Widow'], Counter(second['family_type'])['Widow'], Counter(third['family_type'])['Widow']\n",
    "\n",
    "width = 0.1\n",
    "length = np.arange(len(data1))\n",
    "plt.bar(length, data1, width=width, label='Civil marriage')\n",
    "plt.bar(length+ width, data2, width=width, label='Married')\n",
    "plt.bar(length+ width+ width, data3, width=width, label='Separated')\n",
    "plt.bar(length+ width+ width+ width, data4, width=width, label='Single / not married')\n",
    "plt.bar(length+ width+ width+ width+ width, data5, width=width, label='Widow')\n",
    "\n",
    "\n",
    "plt.legend()\n",
    "plt.xticks(length, ['0', '1', '2'])\n",
    "plt.show()"
   ]
  },
  {
   "cell_type": "markdown",
   "metadata": {},
   "source": [
    "-> 모든 라벨에 대하여 비슷한 양상을 보이고 있다."
   ]
  },
  {
   "cell_type": "markdown",
   "metadata": {},
   "source": [
    "#### test set"
   ]
  },
  {
   "cell_type": "code",
   "execution_count": 161,
   "metadata": {},
   "outputs": [
    {
     "data": {
      "text/plain": [
       "([0, 1, 2, 3, 4], <a list of 5 Text xticklabel objects>)"
      ]
     },
     "execution_count": 161,
     "metadata": {},
     "output_type": "execute_result"
    },
    {
     "data": {
      "image/png": "[encoded data removed]",
      "text/plain": [
       "<Figure size 432x288 with 1 Axes>"
      ]
     },
     "metadata": {
      "needs_background": "light"
     },
     "output_type": "display_data"
    }
   ],
   "source": [
    "plt.bar(height = Counter(sorted(test['family_type'])).values(), x = Counter(sorted(test['family_type'])).keys())\n",
    "plt.xticks(rotation=45)"
   ]
  },
  {
   "cell_type": "markdown",
   "metadata": {},
   "source": [
    "-> train 과 순서 동일하게 비슷한 분포를 띔."
   ]
  },
  {
   "cell_type": "markdown",
   "metadata": {},
   "source": [
    "# house_type"
   ]
  },
  {
   "cell_type": "markdown",
   "metadata": {},
   "source": [
    "#### train set"
   ]
  },
  {
   "cell_type": "code",
   "execution_count": 163,
   "metadata": {},
   "outputs": [
    {
     "data": {
      "text/plain": [
       "([0, 1, 2, 3, 4, 5], <a list of 6 Text xticklabel objects>)"
      ]
     },
     "execution_count": 163,
     "metadata": {},
     "output_type": "execute_result"
    },
    {
     "data": {
      "image/png": "[encoded data removed]",
      "text/plain": [
       "<Figure size 432x288 with 1 Axes>"
      ]
     },
     "metadata": {
      "needs_background": "light"
     },
     "output_type": "display_data"
    }
   ],
   "source": [
    "plt.bar(height = Counter(sorted(train['house_type'])).values(), x = Counter(sorted(train['house_type'])).keys())\n",
    "plt.xticks(rotation=45)"
   ]
  },
  {
   "cell_type": "markdown",
   "metadata": {},
   "source": [
    "-> 일반 집/아파트가 대다수인 것을 확인."
   ]
  },
  {
   "cell_type": "code",
   "execution_count": 166,
   "metadata": {},
   "outputs": [
    {
     "data": {
      "text/plain": [
       "dict_keys(['Co-op apartment', 'House / apartment', 'Municipal apartment', 'Office apartment', 'Rented apartment', 'With parents'])"
      ]
     },
     "execution_count": 166,
     "metadata": {},
     "output_type": "execute_result"
    }
   ],
   "source": [
    "Counter(sorted(train['house_type'])).keys()"
   ]
  },
  {
   "cell_type": "markdown",
   "metadata": {},
   "source": [
    "#### label 별로 확인"
   ]
  },
  {
   "cell_type": "code",
   "execution_count": 168,
   "metadata": {},
   "outputs": [
    {
     "data": {
      "image/png": "[encoded data removed]",
      "text/plain": [
       "<Figure size 432x288 with 1 Axes>"
      ]
     },
     "metadata": {
      "needs_background": "light"
     },
     "output_type": "display_data"
    }
   ],
   "source": [
    "data1 = Counter(first['house_type'])['Co-op apartment'], Counter(second['house_type'])['Co-op apartment'], Counter(third['house_type'])['Co-op apartment']\n",
    "data2 = Counter(first['house_type'])['House / apartment'], Counter(second['house_type'])['House / apartment'], Counter(third['house_type'])['House / apartment']\n",
    "data3 = Counter(first['house_type'])['Municipal apartment'], Counter(second['house_type'])['Municipal apartment'], Counter(third['house_type'])['Municipal apartment']\n",
    "data4 = Counter(first['house_type'])['Office apartment'], Counter(second['house_type'])['Office apartment'], Counter(third['house_type'])['Office apartment']\n",
    "data5 = Counter(first['house_type'])['Rented apartment'], Counter(second['house_type'])['Rented apartment'], Counter(third['house_type'])['Rented apartment']\n",
    "data6 = Counter(first['house_type'])['With parents'], Counter(second['house_type'])['With parents'], Counter(third['house_type'])['With parents']\n",
    "\n",
    "width = 0.1\n",
    "length = np.arange(len(data1))\n",
    "plt.bar(length, data1, width=width, label='Co-op apartment')\n",
    "plt.bar(length+ width, data2, width=width, label='House / apartment')\n",
    "plt.bar(length+ width+ width, data3, width=width, label='Municipal apartment')\n",
    "plt.bar(length+ width+ width+ width, data4, width=width, label='Office apartment')\n",
    "plt.bar(length+ width+ width+ width+ width, data5, width=width, label='Rented apartment')\n",
    "plt.bar(length+ width+ width+ width+ width+ width, data6, width=width, label='With parents')\n",
    "\n",
    "\n",
    "plt.legend()\n",
    "plt.xticks(length, ['0', '1', '2'])\n",
    "plt.show()"
   ]
  },
  {
   "cell_type": "markdown",
   "metadata": {},
   "source": [
    "-> label 별로 분포가 유사한 양상을 보임."
   ]
  },
  {
   "cell_type": "markdown",
   "metadata": {},
   "source": [
    "#### test set"
   ]
  },
  {
   "cell_type": "code",
   "execution_count": 164,
   "metadata": {},
   "outputs": [
    {
     "data": {
      "text/plain": [
       "([0, 1, 2, 3, 4, 5], <a list of 6 Text xticklabel objects>)"
      ]
     },
     "execution_count": 164,
     "metadata": {},
     "output_type": "execute_result"
    },
    {
     "data": {
      "image/png": "[encoded data removed]",
      "text/plain": [
       "<Figure size 432x288 with 1 Axes>"
      ]
     },
     "metadata": {
      "needs_background": "light"
     },
     "output_type": "display_data"
    }
   ],
   "source": [
    "plt.bar(height = Counter(sorted(test['house_type'])).values(), x = Counter(sorted(test['house_type'])).keys())\n",
    "plt.xticks(rotation=45)"
   ]
  },
  {
   "cell_type": "markdown",
   "metadata": {},
   "source": [
    "-> train set과 유사한 분포를 띔."
   ]
  },
  {
   "cell_type": "markdown",
   "metadata": {},
   "source": [
    "# DAYS_BIRTH"
   ]
  },
  {
   "cell_type": "markdown",
   "metadata": {},
   "source": [
    "#### train set"
   ]
  },
  {
   "cell_type": "code",
   "execution_count": 194,
   "metadata": {},
   "outputs": [
    {
     "data": {
      "text/html": [
       "<div>\n",
       "<style scoped>\n",
       "    .dataframe tbody tr th:only-of-type {\n",
       "        vertical-align: middle;\n",
       "    }\n",
       "\n",
       "    .dataframe tbody tr th {\n",
       "        vertical-align: top;\n",
       "    }\n",
       "\n",
       "    .dataframe thead th {\n",
       "        text-align: right;\n",
       "    }\n",
       "</style>\n",
       "<table border=\"1\" class=\"dataframe\">\n",
       "  <thead>\n",
       "    <tr style=\"text-align: right;\">\n",
       "      <th></th>\n",
       "      <th>DAYS_BIRTH</th>\n",
       "    </tr>\n",
       "  </thead>\n",
       "  <tbody>\n",
       "    <tr>\n",
       "      <th>count</th>\n",
       "      <td>26457.00</td>\n",
       "    </tr>\n",
       "    <tr>\n",
       "      <th>mean</th>\n",
       "      <td>43.72</td>\n",
       "    </tr>\n",
       "    <tr>\n",
       "      <th>std</th>\n",
       "      <td>11.51</td>\n",
       "    </tr>\n",
       "    <tr>\n",
       "      <th>min</th>\n",
       "      <td>21.11</td>\n",
       "    </tr>\n",
       "    <tr>\n",
       "      <th>25%</th>\n",
       "      <td>34.10</td>\n",
       "    </tr>\n",
       "    <tr>\n",
       "      <th>50%</th>\n",
       "      <td>42.59</td>\n",
       "    </tr>\n",
       "    <tr>\n",
       "      <th>75%</th>\n",
       "      <td>53.24</td>\n",
       "    </tr>\n",
       "    <tr>\n",
       "      <th>max</th>\n",
       "      <td>68.91</td>\n",
       "    </tr>\n",
       "  </tbody>\n",
       "</table>\n",
       "</div>"
      ],
      "text/plain": [
       "       DAYS_BIRTH\n",
       "count    26457.00\n",
       "mean        43.72\n",
       "std         11.51\n",
       "min         21.11\n",
       "25%         34.10\n",
       "50%         42.59\n",
       "75%         53.24\n",
       "max         68.91"
      ]
     },
     "execution_count": 194,
     "metadata": {},
     "output_type": "execute_result"
    }
   ],
   "source": [
    "pd.DataFrame(train[['DAYS_BIRTH']].describe()['DAYS_BIRTH'].round(2))"
   ]
  },
  {
   "cell_type": "markdown",
   "metadata": {},
   "source": [
    "-> 평균 43 세 최소 21살에서 최고 68세로 분포. "
   ]
  },
  {
   "cell_type": "markdown",
   "metadata": {},
   "source": [
    "#### label 별로 확인"
   ]
  },
  {
   "cell_type": "code",
   "execution_count": 195,
   "metadata": {},
   "outputs": [
    {
     "data": {
      "text/html": [
       "<div>\n",
       "<style scoped>\n",
       "    .dataframe tbody tr th:only-of-type {\n",
       "        vertical-align: middle;\n",
       "    }\n",
       "\n",
       "    .dataframe tbody tr th {\n",
       "        vertical-align: top;\n",
       "    }\n",
       "\n",
       "    .dataframe thead th {\n",
       "        text-align: right;\n",
       "    }\n",
       "</style>\n",
       "<table border=\"1\" class=\"dataframe\">\n",
       "  <thead>\n",
       "    <tr style=\"text-align: right;\">\n",
       "      <th></th>\n",
       "      <th>0</th>\n",
       "      <th>1</th>\n",
       "      <th>2</th>\n",
       "    </tr>\n",
       "  </thead>\n",
       "  <tbody>\n",
       "    <tr>\n",
       "      <th>count</th>\n",
       "      <td>3222.00</td>\n",
       "      <td>6267.00</td>\n",
       "      <td>16968.00</td>\n",
       "    </tr>\n",
       "    <tr>\n",
       "      <th>mean</th>\n",
       "      <td>43.48</td>\n",
       "      <td>43.11</td>\n",
       "      <td>43.99</td>\n",
       "    </tr>\n",
       "    <tr>\n",
       "      <th>std</th>\n",
       "      <td>11.32</td>\n",
       "      <td>11.87</td>\n",
       "      <td>11.40</td>\n",
       "    </tr>\n",
       "    <tr>\n",
       "      <th>min</th>\n",
       "      <td>21.25</td>\n",
       "      <td>21.16</td>\n",
       "      <td>21.11</td>\n",
       "    </tr>\n",
       "    <tr>\n",
       "      <th>25%</th>\n",
       "      <td>34.47</td>\n",
       "      <td>32.92</td>\n",
       "      <td>34.40</td>\n",
       "    </tr>\n",
       "    <tr>\n",
       "      <th>50%</th>\n",
       "      <td>41.93</td>\n",
       "      <td>41.91</td>\n",
       "      <td>43.07</td>\n",
       "    </tr>\n",
       "    <tr>\n",
       "      <th>75%</th>\n",
       "      <td>52.53</td>\n",
       "      <td>53.09</td>\n",
       "      <td>53.39</td>\n",
       "    </tr>\n",
       "    <tr>\n",
       "      <th>max</th>\n",
       "      <td>68.88</td>\n",
       "      <td>68.41</td>\n",
       "      <td>68.91</td>\n",
       "    </tr>\n",
       "  </tbody>\n",
       "</table>\n",
       "</div>"
      ],
      "text/plain": [
       "             0        1         2\n",
       "count  3222.00  6267.00  16968.00\n",
       "mean     43.48    43.11     43.99\n",
       "std      11.32    11.87     11.40\n",
       "min      21.25    21.16     21.11\n",
       "25%      34.47    32.92     34.40\n",
       "50%      41.93    41.91     43.07\n",
       "75%      52.53    53.09     53.39\n",
       "max      68.88    68.41     68.91"
      ]
     },
     "execution_count": 195,
     "metadata": {},
     "output_type": "execute_result"
    }
   ],
   "source": [
    "tmp=[]\n",
    "idx = first[['DAYS_BIRTH']].describe().index\n",
    "tmp.append(list(first[['DAYS_BIRTH']].describe()['DAYS_BIRTH'].round(2)))\n",
    "tmp.append(list(second[['DAYS_BIRTH']].describe()['DAYS_BIRTH'].round(2)))\n",
    "tmp.append(list(third[['DAYS_BIRTH']].describe()['DAYS_BIRTH'].round(2)))\n",
    "tmp_df = pd.DataFrame(tmp).T\n",
    "tmp_df.index = idx\n",
    "tmp_df"
   ]
  },
  {
   "cell_type": "markdown",
   "metadata": {},
   "source": [
    "-> 모든 라벨에 대한 나이의 분포가 거의 유사하다. 이쯤 되면 라벨 별로 두드러지는 특징을 찾는게 힘들다는 생각이 들 정도."
   ]
  },
  {
   "cell_type": "markdown",
   "metadata": {},
   "source": [
    "#### test set"
   ]
  },
  {
   "cell_type": "code",
   "execution_count": 196,
   "metadata": {},
   "outputs": [
    {
     "data": {
      "text/html": [
       "<div>\n",
       "<style scoped>\n",
       "    .dataframe tbody tr th:only-of-type {\n",
       "        vertical-align: middle;\n",
       "    }\n",
       "\n",
       "    .dataframe tbody tr th {\n",
       "        vertical-align: top;\n",
       "    }\n",
       "\n",
       "    .dataframe thead th {\n",
       "        text-align: right;\n",
       "    }\n",
       "</style>\n",
       "<table border=\"1\" class=\"dataframe\">\n",
       "  <thead>\n",
       "    <tr style=\"text-align: right;\">\n",
       "      <th></th>\n",
       "      <th>DAYS_BIRTH</th>\n",
       "    </tr>\n",
       "  </thead>\n",
       "  <tbody>\n",
       "    <tr>\n",
       "      <th>count</th>\n",
       "      <td>10000.00</td>\n",
       "    </tr>\n",
       "    <tr>\n",
       "      <th>mean</th>\n",
       "      <td>-16020.47</td>\n",
       "    </tr>\n",
       "    <tr>\n",
       "      <th>std</th>\n",
       "      <td>4197.67</td>\n",
       "    </tr>\n",
       "    <tr>\n",
       "      <th>min</th>\n",
       "      <td>-25152.00</td>\n",
       "    </tr>\n",
       "    <tr>\n",
       "      <th>25%</th>\n",
       "      <td>-19483.25</td>\n",
       "    </tr>\n",
       "    <tr>\n",
       "      <th>50%</th>\n",
       "      <td>-15606.00</td>\n",
       "    </tr>\n",
       "    <tr>\n",
       "      <th>75%</th>\n",
       "      <td>-12539.00</td>\n",
       "    </tr>\n",
       "    <tr>\n",
       "      <th>max</th>\n",
       "      <td>-7489.00</td>\n",
       "    </tr>\n",
       "  </tbody>\n",
       "</table>\n",
       "</div>"
      ],
      "text/plain": [
       "       DAYS_BIRTH\n",
       "count    10000.00\n",
       "mean    -16020.47\n",
       "std       4197.67\n",
       "min     -25152.00\n",
       "25%     -19483.25\n",
       "50%     -15606.00\n",
       "75%     -12539.00\n",
       "max      -7489.00"
      ]
     },
     "execution_count": 196,
     "metadata": {},
     "output_type": "execute_result"
    }
   ],
   "source": [
    "pd.DataFrame(test[['DAYS_BIRTH']].describe()['DAYS_BIRTH'].round(2))"
   ]
  },
  {
   "cell_type": "markdown",
   "metadata": {},
   "source": [
    "-> train set 과 거의 유사한 양상을 보임."
   ]
  },
  {
   "cell_type": "markdown",
   "metadata": {},
   "source": [
    "# DAYS_EMPLOYED"
   ]
  },
  {
   "cell_type": "markdown",
   "metadata": {},
   "source": [
    "** 연금받으시는 분들 이상값을 평균 값으로 들어가게 하였음."
   ]
  },
  {
   "cell_type": "markdown",
   "metadata": {},
   "source": [
    "#### train set"
   ]
  },
  {
   "cell_type": "code",
   "execution_count": 78,
   "metadata": {},
   "outputs": [
    {
     "data": {
      "text/html": [
       "<div>\n",
       "<style scoped>\n",
       "    .dataframe tbody tr th:only-of-type {\n",
       "        vertical-align: middle;\n",
       "    }\n",
       "\n",
       "    .dataframe tbody tr th {\n",
       "        vertical-align: top;\n",
       "    }\n",
       "\n",
       "    .dataframe thead th {\n",
       "        text-align: right;\n",
       "    }\n",
       "</style>\n",
       "<table border=\"1\" class=\"dataframe\">\n",
       "  <thead>\n",
       "    <tr style=\"text-align: right;\">\n",
       "      <th></th>\n",
       "      <th>DAYS_EMPLOYED</th>\n",
       "    </tr>\n",
       "  </thead>\n",
       "  <tbody>\n",
       "    <tr>\n",
       "      <th>count</th>\n",
       "      <td>26457.00</td>\n",
       "    </tr>\n",
       "    <tr>\n",
       "      <th>mean</th>\n",
       "      <td>7.98</td>\n",
       "    </tr>\n",
       "    <tr>\n",
       "      <th>std</th>\n",
       "      <td>6.17</td>\n",
       "    </tr>\n",
       "    <tr>\n",
       "      <th>min</th>\n",
       "      <td>0.05</td>\n",
       "    </tr>\n",
       "    <tr>\n",
       "      <th>25%</th>\n",
       "      <td>3.18</td>\n",
       "    </tr>\n",
       "    <tr>\n",
       "      <th>50%</th>\n",
       "      <td>6.85</td>\n",
       "    </tr>\n",
       "    <tr>\n",
       "      <th>75%</th>\n",
       "      <td>11.04</td>\n",
       "    </tr>\n",
       "    <tr>\n",
       "      <th>max</th>\n",
       "      <td>43.05</td>\n",
       "    </tr>\n",
       "  </tbody>\n",
       "</table>\n",
       "</div>"
      ],
      "text/plain": [
       "       DAYS_EMPLOYED\n",
       "count       26457.00\n",
       "mean            7.98\n",
       "std             6.17\n",
       "min             0.05\n",
       "25%             3.18\n",
       "50%             6.85\n",
       "75%            11.04\n",
       "max            43.05"
      ]
     },
     "execution_count": 78,
     "metadata": {},
     "output_type": "execute_result"
    }
   ],
   "source": [
    "pd.DataFrame(train[['DAYS_EMPLOYED']].describe()['DAYS_EMPLOYED'].round(2))"
   ]
  },
  {
   "cell_type": "markdown",
   "metadata": {},
   "source": [
    "-> 평균 고용일수 약 8년, 중앙값으로는 6.85년. 편차가 6년정도로 꽤 편차가 크다."
   ]
  },
  {
   "cell_type": "markdown",
   "metadata": {},
   "source": [
    "#### label 별로 확인"
   ]
  },
  {
   "cell_type": "code",
   "execution_count": 81,
   "metadata": {},
   "outputs": [
    {
     "data": {
      "text/html": [
       "<div>\n",
       "<style scoped>\n",
       "    .dataframe tbody tr th:only-of-type {\n",
       "        vertical-align: middle;\n",
       "    }\n",
       "\n",
       "    .dataframe tbody tr th {\n",
       "        vertical-align: top;\n",
       "    }\n",
       "\n",
       "    .dataframe thead th {\n",
       "        text-align: right;\n",
       "    }\n",
       "</style>\n",
       "<table border=\"1\" class=\"dataframe\">\n",
       "  <thead>\n",
       "    <tr style=\"text-align: right;\">\n",
       "      <th></th>\n",
       "      <th>0</th>\n",
       "      <th>1</th>\n",
       "      <th>2</th>\n",
       "    </tr>\n",
       "  </thead>\n",
       "  <tbody>\n",
       "    <tr>\n",
       "      <th>count</th>\n",
       "      <td>3222.00</td>\n",
       "      <td>6267.00</td>\n",
       "      <td>16968.00</td>\n",
       "    </tr>\n",
       "    <tr>\n",
       "      <th>mean</th>\n",
       "      <td>43.48</td>\n",
       "      <td>43.11</td>\n",
       "      <td>43.99</td>\n",
       "    </tr>\n",
       "    <tr>\n",
       "      <th>std</th>\n",
       "      <td>11.32</td>\n",
       "      <td>11.87</td>\n",
       "      <td>11.40</td>\n",
       "    </tr>\n",
       "    <tr>\n",
       "      <th>min</th>\n",
       "      <td>21.25</td>\n",
       "      <td>21.16</td>\n",
       "      <td>21.11</td>\n",
       "    </tr>\n",
       "    <tr>\n",
       "      <th>25%</th>\n",
       "      <td>34.47</td>\n",
       "      <td>32.92</td>\n",
       "      <td>34.40</td>\n",
       "    </tr>\n",
       "    <tr>\n",
       "      <th>50%</th>\n",
       "      <td>41.93</td>\n",
       "      <td>41.91</td>\n",
       "      <td>43.07</td>\n",
       "    </tr>\n",
       "    <tr>\n",
       "      <th>75%</th>\n",
       "      <td>52.53</td>\n",
       "      <td>53.09</td>\n",
       "      <td>53.39</td>\n",
       "    </tr>\n",
       "    <tr>\n",
       "      <th>max</th>\n",
       "      <td>68.88</td>\n",
       "      <td>68.41</td>\n",
       "      <td>68.91</td>\n",
       "    </tr>\n",
       "  </tbody>\n",
       "</table>\n",
       "</div>"
      ],
      "text/plain": [
       "             0        1         2\n",
       "count  3222.00  6267.00  16968.00\n",
       "mean     43.48    43.11     43.99\n",
       "std      11.32    11.87     11.40\n",
       "min      21.25    21.16     21.11\n",
       "25%      34.47    32.92     34.40\n",
       "50%      41.93    41.91     43.07\n",
       "75%      52.53    53.09     53.39\n",
       "max      68.88    68.41     68.91"
      ]
     },
     "execution_count": 81,
     "metadata": {},
     "output_type": "execute_result"
    }
   ],
   "source": [
    "tmp=[]\n",
    "idx = first[['DAYS_BIRTH']].describe().index\n",
    "tmp.append(list(first[['DAYS_BIRTH']].describe()['DAYS_BIRTH'].round(2)))\n",
    "tmp.append(list(second[['DAYS_BIRTH']].describe()['DAYS_BIRTH'].round(2)))\n",
    "tmp.append(list(third[['DAYS_BIRTH']].describe()['DAYS_BIRTH'].round(2)))\n",
    "tmp_df = pd.DataFrame(tmp).T\n",
    "tmp_df.index = idx\n",
    "tmp_df"
   ]
  },
  {
   "cell_type": "markdown",
   "metadata": {},
   "source": [
    "-> label 별로는 큰 차이를 보이지 않고 있다. "
   ]
  },
  {
   "cell_type": "markdown",
   "metadata": {},
   "source": [
    "#### test set"
   ]
  },
  {
   "cell_type": "code",
   "execution_count": 82,
   "metadata": {},
   "outputs": [
    {
     "data": {
      "text/html": [
       "<div>\n",
       "<style scoped>\n",
       "    .dataframe tbody tr th:only-of-type {\n",
       "        vertical-align: middle;\n",
       "    }\n",
       "\n",
       "    .dataframe tbody tr th {\n",
       "        vertical-align: top;\n",
       "    }\n",
       "\n",
       "    .dataframe thead th {\n",
       "        text-align: right;\n",
       "    }\n",
       "</style>\n",
       "<table border=\"1\" class=\"dataframe\">\n",
       "  <thead>\n",
       "    <tr style=\"text-align: right;\">\n",
       "      <th></th>\n",
       "      <th>DAYS_EMPLOYED</th>\n",
       "    </tr>\n",
       "  </thead>\n",
       "  <tbody>\n",
       "    <tr>\n",
       "      <th>count</th>\n",
       "      <td>10000.00</td>\n",
       "    </tr>\n",
       "    <tr>\n",
       "      <th>mean</th>\n",
       "      <td>7.91</td>\n",
       "    </tr>\n",
       "    <tr>\n",
       "      <th>std</th>\n",
       "      <td>6.05</td>\n",
       "    </tr>\n",
       "    <tr>\n",
       "      <th>min</th>\n",
       "      <td>0.05</td>\n",
       "    </tr>\n",
       "    <tr>\n",
       "      <th>25%</th>\n",
       "      <td>3.27</td>\n",
       "    </tr>\n",
       "    <tr>\n",
       "      <th>50%</th>\n",
       "      <td>6.94</td>\n",
       "    </tr>\n",
       "    <tr>\n",
       "      <th>75%</th>\n",
       "      <td>11.11</td>\n",
       "    </tr>\n",
       "    <tr>\n",
       "      <th>max</th>\n",
       "      <td>42.91</td>\n",
       "    </tr>\n",
       "  </tbody>\n",
       "</table>\n",
       "</div>"
      ],
      "text/plain": [
       "       DAYS_EMPLOYED\n",
       "count       10000.00\n",
       "mean            7.91\n",
       "std             6.05\n",
       "min             0.05\n",
       "25%             3.27\n",
       "50%             6.94\n",
       "75%            11.11\n",
       "max            42.91"
      ]
     },
     "execution_count": 82,
     "metadata": {},
     "output_type": "execute_result"
    }
   ],
   "source": [
    "pd.DataFrame(test[['DAYS_EMPLOYED']].describe()['DAYS_EMPLOYED'].round(2))"
   ]
  },
  {
   "cell_type": "markdown",
   "metadata": {},
   "source": [
    "-> train set 과 거의 유사한 양상을 보이고 있다."
   ]
  },
  {
   "cell_type": "markdown",
   "metadata": {},
   "source": [
    "# FLAG_MOBIL"
   ]
  },
  {
   "cell_type": "markdown",
   "metadata": {},
   "source": [
    "#### -> 이 변수는 케이스 전부 다 가지고 있어서 애초에 데이터 로드할 때부터 제외하였음."
   ]
  },
  {
   "cell_type": "markdown",
   "metadata": {},
   "source": [
    "# work_phone"
   ]
  },
  {
   "cell_type": "markdown",
   "metadata": {},
   "source": [
    "#### train set"
   ]
  },
  {
   "cell_type": "code",
   "execution_count": 87,
   "metadata": {},
   "outputs": [
    {
     "data": {
      "text/plain": [
       "<BarContainer object of 2 artists>"
      ]
     },
     "execution_count": 87,
     "metadata": {},
     "output_type": "execute_result"
    },
    {
     "data": {
      "image/png": "[encoded data removed]",
      "text/plain": [
       "<Figure size 432x288 with 1 Axes>"
      ]
     },
     "metadata": {
      "needs_background": "light"
     },
     "output_type": "display_data"
    }
   ],
   "source": [
    "plt.bar(height = Counter(sorted(train['work_phone'])).values(), x = Counter(sorted(train['work_phone'])).keys())"
   ]
  },
  {
   "cell_type": "markdown",
   "metadata": {},
   "source": [
    "-> 0과 1로 나뉜 이진 변수인데, 없는 사람이 더 많은 것을 알 수 있다."
   ]
  },
  {
   "cell_type": "markdown",
   "metadata": {},
   "source": [
    "#### label 별로 확인"
   ]
  },
  {
   "cell_type": "code",
   "execution_count": 88,
   "metadata": {},
   "outputs": [
    {
     "data": {
      "text/plain": [
       "Counter({0: 2493, 1: 729})"
      ]
     },
     "execution_count": 88,
     "metadata": {},
     "output_type": "execute_result"
    }
   ],
   "source": [
    "Counter(first['work_phone'])"
   ]
  },
  {
   "cell_type": "code",
   "execution_count": 89,
   "metadata": {},
   "outputs": [
    {
     "data": {
      "image/png": "[encoded data removed]",
      "text/plain": [
       "<Figure size 432x288 with 1 Axes>"
      ]
     },
     "metadata": {
      "needs_background": "light"
     },
     "output_type": "display_data"
    }
   ],
   "source": [
    "data1 = Counter(first['work_phone'])[0], Counter(second['work_phone'])[0], Counter(third['work_phone'])[0]\n",
    "data2 = Counter(first['work_phone'])[1], Counter(second['work_phone'])[1], Counter(third['work_phone'])[1]\n",
    "\n",
    "width = 0.1\n",
    "length = np.arange(len(data1))\n",
    "plt.bar(length, data1, width=width, label=0)\n",
    "plt.bar(length+ width, data2, width=width, label=1)\n",
    "\n",
    "plt.legend()\n",
    "plt.xticks(length, ['0', '1'])\n",
    "plt.show()"
   ]
  },
  {
   "cell_type": "markdown",
   "metadata": {},
   "source": [
    "-> 라벨 별 분포도 업무용 전화가 없는 케이스가 더 많이 존재한다."
   ]
  },
  {
   "cell_type": "markdown",
   "metadata": {},
   "source": [
    "#### test set"
   ]
  },
  {
   "cell_type": "code",
   "execution_count": 90,
   "metadata": {},
   "outputs": [
    {
     "data": {
      "text/plain": [
       "<BarContainer object of 2 artists>"
      ]
     },
     "execution_count": 90,
     "metadata": {},
     "output_type": "execute_result"
    },
    {
     "data": {
      "image/png": "[encoded data removed]",
      "text/plain": [
       "<Figure size 432x288 with 1 Axes>"
      ]
     },
     "metadata": {
      "needs_background": "light"
     },
     "output_type": "display_data"
    }
   ],
   "source": [
    "plt.bar(height = Counter(sorted(test['work_phone'])).values(), x = Counter(sorted(test['work_phone'])).keys())"
   ]
  },
  {
   "cell_type": "markdown",
   "metadata": {},
   "source": [
    "-> train set과 마찬가지로 업무용 전화가 없는 경우가 더 많은 것을 알 수 있다."
   ]
  },
  {
   "cell_type": "markdown",
   "metadata": {},
   "source": [
    "# email"
   ]
  },
  {
   "cell_type": "markdown",
   "metadata": {},
   "source": [
    "####  train set"
   ]
  },
  {
   "cell_type": "code",
   "execution_count": 91,
   "metadata": {},
   "outputs": [
    {
     "data": {
      "text/plain": [
       "<BarContainer object of 2 artists>"
      ]
     },
     "execution_count": 91,
     "metadata": {},
     "output_type": "execute_result"
    },
    {
     "data": {
      "image/png": "[encoded data removed]",
      "text/plain": [
       "<Figure size 432x288 with 1 Axes>"
      ]
     },
     "metadata": {
      "needs_background": "light"
     },
     "output_type": "display_data"
    }
   ],
   "source": [
    "plt.bar(height = Counter(sorted(train['email'])).values(), x = Counter(sorted(train['email'])).keys())"
   ]
  },
  {
   "cell_type": "markdown",
   "metadata": {},
   "source": [
    "#### label 별로 확인"
   ]
  },
  {
   "cell_type": "code",
   "execution_count": 93,
   "metadata": {},
   "outputs": [
    {
     "data": {
      "image/png": "[encoded data removed]",
      "text/plain": [
       "<Figure size 432x288 with 1 Axes>"
      ]
     },
     "metadata": {
      "needs_background": "light"
     },
     "output_type": "display_data"
    }
   ],
   "source": [
    "data1 = Counter(first['email'])[0], Counter(second['email'])[0], Counter(third['email'])[0]\n",
    "data2 = Counter(first['email'])[1], Counter(second['email'])[1], Counter(third['email'])[1]\n",
    "\n",
    "width = 0.1\n",
    "length = np.arange(len(data1))\n",
    "plt.bar(length, data1, width=width, label=0)\n",
    "plt.bar(length+ width, data2, width=width, label=1)\n",
    "\n",
    "plt.legend()\n",
    "plt.xticks(length, ['0', '1'])\n",
    "plt.show()"
   ]
  },
  {
   "cell_type": "markdown",
   "metadata": {},
   "source": [
    "-> 라벨별로 이메일 소유 여부는 전부다 비슷하게 없는 사람들이 많다."
   ]
  },
  {
   "cell_type": "markdown",
   "metadata": {},
   "source": [
    "#### test set"
   ]
  },
  {
   "cell_type": "code",
   "execution_count": 92,
   "metadata": {},
   "outputs": [
    {
     "data": {
      "text/plain": [
       "<BarContainer object of 2 artists>"
      ]
     },
     "execution_count": 92,
     "metadata": {},
     "output_type": "execute_result"
    },
    {
     "data": {
      "image/png": "[encoded data removed]",
      "text/plain": [
       "<Figure size 432x288 with 1 Axes>"
      ]
     },
     "metadata": {
      "needs_background": "light"
     },
     "output_type": "display_data"
    }
   ],
   "source": [
    "plt.bar(height = Counter(sorted(test['email'])).values(), x = Counter(sorted(test['email'])).keys())"
   ]
  },
  {
   "cell_type": "markdown",
   "metadata": {},
   "source": [
    "# occyp_type"
   ]
  },
  {
   "cell_type": "markdown",
   "metadata": {},
   "source": [
    "#### train set"
   ]
  },
  {
   "cell_type": "code",
   "execution_count": 132,
   "metadata": {
    "scrolled": false
   },
   "outputs": [
    {
     "data": {
      "text/plain": [
       "([0, 1, 2, 3, 4, 5, 6, 7, 8, 9, 10, 11, 12, 13, 14, 15, 16, 17, 18],\n",
       " <a list of 19 Text xticklabel objects>)"
      ]
     },
     "execution_count": 132,
     "metadata": {},
     "output_type": "execute_result"
    },
    {
     "data": {
      "image/png": "[encoded data removed]",
      "text/plain": [
       "<Figure size 432x288 with 1 Axes>"
      ]
     },
     "metadata": {
      "needs_background": "light"
     },
     "output_type": "display_data"
    }
   ],
   "source": [
    "plt.bar(height = Counter(sorted(train['occyp_type'])).values(), x = Counter(sorted(train['occyp_type'])).keys())\n",
    "plt.xticks(rotation=45)"
   ]
  },
  {
   "cell_type": "code",
   "execution_count": 133,
   "metadata": {},
   "outputs": [
    {
     "data": {
      "text/plain": [
       "Counter({'nojob': 8171,\n",
       "         'Laborers': 4512,\n",
       "         'Managers': 2167,\n",
       "         'Sales staff': 2539,\n",
       "         'High skill tech staff': 1040,\n",
       "         'Core staff': 2646,\n",
       "         'Drivers': 1575,\n",
       "         'Medicine staff': 864,\n",
       "         'Accountants': 902,\n",
       "         'Realty agents': 63,\n",
       "         'Security staff': 424,\n",
       "         'Cleaning staff': 403,\n",
       "         'Private service staff': 243,\n",
       "         'Cooking staff': 457,\n",
       "         'Secretaries': 97,\n",
       "         'HR staff': 62,\n",
       "         'IT staff': 41,\n",
       "         'Low-skill Laborers': 127,\n",
       "         'Waiters/barmen staff': 124})"
      ]
     },
     "execution_count": 133,
     "metadata": {},
     "output_type": "execute_result"
    }
   ],
   "source": [
    "Counter(train['occyp_type'])"
   ]
  },
  {
   "cell_type": "markdown",
   "metadata": {},
   "source": [
    "-> 직업이 없는 사람이 가장 많다... :( "
   ]
  },
  {
   "cell_type": "markdown",
   "metadata": {},
   "source": [
    "#### label 별로 확인"
   ]
  },
  {
   "cell_type": "code",
   "execution_count": 149,
   "metadata": {},
   "outputs": [
    {
     "data": {
      "text/plain": [
       "([0, 1, 2, 3, 4, 5, 6, 7, 8, 9, 10, 11, 12, 13, 14, 15, 16, 17, 18],\n",
       " <a list of 19 Text xticklabel objects>)"
      ]
     },
     "execution_count": 149,
     "metadata": {},
     "output_type": "execute_result"
    },
    {
     "data": {
      "image/png": "[encoded data removed]",
      "text/plain": [
       "<Figure size 432x288 with 1 Axes>"
      ]
     },
     "metadata": {
      "needs_background": "light"
     },
     "output_type": "display_data"
    }
   ],
   "source": [
    "plt.bar(x=Counter(sorted(first['occyp_type'])).keys(), height=Counter(sorted(first['occyp_type'])).values())\n",
    "plt.xticks(rotation=45)"
   ]
  },
  {
   "cell_type": "code",
   "execution_count": 150,
   "metadata": {},
   "outputs": [
    {
     "data": {
      "text/plain": [
       "([0, 1, 2, 3, 4, 5, 6, 7, 8, 9, 10, 11, 12, 13, 14, 15, 16, 17, 18],\n",
       " <a list of 19 Text xticklabel objects>)"
      ]
     },
     "execution_count": 150,
     "metadata": {},
     "output_type": "execute_result"
    },
    {
     "data": {
      "image/png": "[encoded data removed]",
      "text/plain": [
       "<Figure size 432x288 with 1 Axes>"
      ]
     },
     "metadata": {
      "needs_background": "light"
     },
     "output_type": "display_data"
    }
   ],
   "source": [
    "plt.bar(x=Counter(sorted(second['occyp_type'])).keys(), height=Counter(sorted(second['occyp_type'])).values())\n",
    "plt.xticks(rotation=45)"
   ]
  },
  {
   "cell_type": "code",
   "execution_count": 151,
   "metadata": {},
   "outputs": [
    {
     "data": {
      "text/plain": [
       "([0, 1, 2, 3, 4, 5, 6, 7, 8, 9, 10, 11, 12, 13, 14, 15, 16, 17, 18],\n",
       " <a list of 19 Text xticklabel objects>)"
      ]
     },
     "execution_count": 151,
     "metadata": {},
     "output_type": "execute_result"
    },
    {
     "data": {
      "image/png": "[encoded data removed]",
      "text/plain": [
       "<Figure size 432x288 with 1 Axes>"
      ]
     },
     "metadata": {
      "needs_background": "light"
     },
     "output_type": "display_data"
    }
   ],
   "source": [
    "plt.bar(x=Counter(sorted(third['occyp_type'])).keys(), height=Counter(sorted(third['occyp_type'])).values())\n",
    "plt.xticks(rotation=45)"
   ]
  },
  {
   "cell_type": "markdown",
   "metadata": {},
   "source": [
    "-> 라벨별로 차이없는 것을 알 수 있다."
   ]
  },
  {
   "cell_type": "markdown",
   "metadata": {},
   "source": [
    "#### test set"
   ]
  },
  {
   "cell_type": "code",
   "execution_count": 152,
   "metadata": {},
   "outputs": [
    {
     "data": {
      "text/plain": [
       "([0, 1, 2, 3, 4, 5, 6, 7, 8, 9, 10, 11, 12, 13, 14, 15, 16, 17, 18],\n",
       " <a list of 19 Text xticklabel objects>)"
      ]
     },
     "execution_count": 152,
     "metadata": {},
     "output_type": "execute_result"
    },
    {
     "data": {
      "image/png": "[encoded data removed]",
      "text/plain": [
       "<Figure size 432x288 with 1 Axes>"
      ]
     },
     "metadata": {
      "needs_background": "light"
     },
     "output_type": "display_data"
    }
   ],
   "source": [
    "plt.bar(height = Counter(sorted(test['occyp_type'])).values(), x = Counter(sorted(test['occyp_type'])).keys())\n",
    "plt.xticks(rotation=45)"
   ]
  },
  {
   "cell_type": "code",
   "execution_count": 154,
   "metadata": {},
   "outputs": [
    {
     "data": {
      "text/plain": [
       "Counter({'Accountants': 339,\n",
       "         'Cleaning staff': 148,\n",
       "         'Cooking staff': 198,\n",
       "         'Core staff': 945,\n",
       "         'Drivers': 563,\n",
       "         'HR staff': 23,\n",
       "         'High skill tech staff': 343,\n",
       "         'IT staff': 19,\n",
       "         'Laborers': 1699,\n",
       "         'Low-skill Laborers': 48,\n",
       "         'Managers': 845,\n",
       "         'Medicine staff': 343,\n",
       "         'Private service staff': 101,\n",
       "         'Realty agents': 16,\n",
       "         'Sales staff': 946,\n",
       "         'Secretaries': 54,\n",
       "         'Security staff': 168,\n",
       "         'Waiters/barmen staff': 50,\n",
       "         'nojob': 3152})"
      ]
     },
     "execution_count": 154,
     "metadata": {},
     "output_type": "execute_result"
    }
   ],
   "source": [
    "Counter(sorted(test['occyp_type']))"
   ]
  },
  {
   "cell_type": "markdown",
   "metadata": {},
   "source": [
    "-> train set과 분포가 거의 동일한 것을 알 수 있음."
   ]
  },
  {
   "cell_type": "markdown",
   "metadata": {},
   "source": [
    "# family_size"
   ]
  },
  {
   "cell_type": "markdown",
   "metadata": {},
   "source": [
    "#### train set"
   ]
  },
  {
   "cell_type": "code",
   "execution_count": 155,
   "metadata": {},
   "outputs": [
    {
     "data": {
      "text/plain": [
       "(array([-2.5,  0. ,  2.5,  5. ,  7.5, 10. , 12.5, 15. , 17.5, 20. , 22.5]),\n",
       " <a list of 11 Text xticklabel objects>)"
      ]
     },
     "execution_count": 155,
     "metadata": {},
     "output_type": "execute_result"
    },
    {
     "data": {
      "image/png": "[encoded data removed]",
      "text/plain": [
       "<Figure size 432x288 with 1 Axes>"
      ]
     },
     "metadata": {
      "needs_background": "light"
     },
     "output_type": "display_data"
    }
   ],
   "source": [
    "plt.bar(height = Counter(sorted(train['family_size'])).values(), x = Counter(sorted(train['family_size'])).keys())\n",
    "plt.xticks(rotation=45)"
   ]
  },
  {
   "cell_type": "markdown",
   "metadata": {},
   "source": [
    "#### label 별로 확인"
   ]
  },
  {
   "cell_type": "code",
   "execution_count": 156,
   "metadata": {},
   "outputs": [
    {
     "data": {
      "text/plain": [
       "(array([0., 1., 2., 3., 4., 5., 6., 7., 8.]),\n",
       " <a list of 9 Text xticklabel objects>)"
      ]
     },
     "execution_count": 156,
     "metadata": {},
     "output_type": "execute_result"
    },
    {
     "data": {
      "image/png": "[encoded data removed]",
      "text/plain": [
       "<Figure size 432x288 with 1 Axes>"
      ]
     },
     "metadata": {
      "needs_background": "light"
     },
     "output_type": "display_data"
    }
   ],
   "source": [
    "plt.bar(height = Counter(sorted(first['family_size'])).values(), x = Counter(sorted(first['family_size'])).keys())\n",
    "plt.xticks(rotation=45)"
   ]
  },
  {
   "cell_type": "code",
   "execution_count": 157,
   "metadata": {},
   "outputs": [
    {
     "data": {
      "text/plain": [
       "(array([0., 1., 2., 3., 4., 5., 6., 7., 8.]),\n",
       " <a list of 9 Text xticklabel objects>)"
      ]
     },
     "execution_count": 157,
     "metadata": {},
     "output_type": "execute_result"
    },
    {
     "data": {
      "image/png": "[encoded data removed]",
      "text/plain": [
       "<Figure size 432x288 with 1 Axes>"
      ]
     },
     "metadata": {
      "needs_background": "light"
     },
     "output_type": "display_data"
    }
   ],
   "source": [
    "plt.bar(height = Counter(sorted(second['family_size'])).values(), x = Counter(sorted(second['family_size'])).keys())\n",
    "plt.xticks(rotation=45)"
   ]
  },
  {
   "cell_type": "code",
   "execution_count": 158,
   "metadata": {},
   "outputs": [
    {
     "data": {
      "text/plain": [
       "(array([-2.5,  0. ,  2.5,  5. ,  7.5, 10. , 12.5, 15. , 17.5, 20. , 22.5]),\n",
       " <a list of 11 Text xticklabel objects>)"
      ]
     },
     "execution_count": 158,
     "metadata": {},
     "output_type": "execute_result"
    },
    {
     "data": {
      "image/png": "[encoded data removed]",
      "text/plain": [
       "<Figure size 432x288 with 1 Axes>"
      ]
     },
     "metadata": {
      "needs_background": "light"
     },
     "output_type": "display_data"
    }
   ],
   "source": [
    "plt.bar(height = Counter(sorted(third['family_size'])).values(), x = Counter(sorted(third['family_size'])).keys())\n",
    "plt.xticks(rotation=45)"
   ]
  },
  {
   "cell_type": "markdown",
   "metadata": {},
   "source": [
    "-> 라벨별로 차이는 없고 가족이 2명인경우가 가장 많고 1,3 명이 그 뒤를 잇는다."
   ]
  },
  {
   "cell_type": "markdown",
   "metadata": {},
   "source": [
    "#### test set"
   ]
  },
  {
   "cell_type": "code",
   "execution_count": 159,
   "metadata": {},
   "outputs": [
    {
     "data": {
      "text/plain": [
       "(array([0., 1., 2., 3., 4., 5., 6., 7., 8.]),\n",
       " <a list of 9 Text xticklabel objects>)"
      ]
     },
     "execution_count": 159,
     "metadata": {},
     "output_type": "execute_result"
    },
    {
     "data": {
      "image/png": "[encoded data removed]",
      "text/plain": [
       "<Figure size 432x288 with 1 Axes>"
      ]
     },
     "metadata": {
      "needs_background": "light"
     },
     "output_type": "display_data"
    }
   ],
   "source": [
    "plt.bar(height = Counter(sorted(test['family_size'])).values(), x = Counter(sorted(test['family_size'])).keys())\n",
    "plt.xticks(rotation=45)"
   ]
  },
  {
   "cell_type": "markdown",
   "metadata": {},
   "source": [
    "-> train set 과 유사한 양상을 보임."
   ]
  },
  {
   "cell_type": "markdown",
   "metadata": {},
   "source": [
    "# begin_month"
   ]
  },
  {
   "cell_type": "markdown",
   "metadata": {},
   "source": [
    "#### train set"
   ]
  },
  {
   "cell_type": "code",
   "execution_count": 172,
   "metadata": {},
   "outputs": [
    {
     "data": {
      "text/html": [
       "<div>\n",
       "<style scoped>\n",
       "    .dataframe tbody tr th:only-of-type {\n",
       "        vertical-align: middle;\n",
       "    }\n",
       "\n",
       "    .dataframe tbody tr th {\n",
       "        vertical-align: top;\n",
       "    }\n",
       "\n",
       "    .dataframe thead th {\n",
       "        text-align: right;\n",
       "    }\n",
       "</style>\n",
       "<table border=\"1\" class=\"dataframe\">\n",
       "  <thead>\n",
       "    <tr style=\"text-align: right;\">\n",
       "      <th></th>\n",
       "      <th>begin_month</th>\n",
       "    </tr>\n",
       "  </thead>\n",
       "  <tbody>\n",
       "    <tr>\n",
       "      <th>count</th>\n",
       "      <td>26457.00</td>\n",
       "    </tr>\n",
       "    <tr>\n",
       "      <th>mean</th>\n",
       "      <td>26.12</td>\n",
       "    </tr>\n",
       "    <tr>\n",
       "      <th>std</th>\n",
       "      <td>16.56</td>\n",
       "    </tr>\n",
       "    <tr>\n",
       "      <th>min</th>\n",
       "      <td>-0.00</td>\n",
       "    </tr>\n",
       "    <tr>\n",
       "      <th>25%</th>\n",
       "      <td>12.00</td>\n",
       "    </tr>\n",
       "    <tr>\n",
       "      <th>50%</th>\n",
       "      <td>24.00</td>\n",
       "    </tr>\n",
       "    <tr>\n",
       "      <th>75%</th>\n",
       "      <td>39.00</td>\n",
       "    </tr>\n",
       "    <tr>\n",
       "      <th>max</th>\n",
       "      <td>60.00</td>\n",
       "    </tr>\n",
       "  </tbody>\n",
       "</table>\n",
       "</div>"
      ],
      "text/plain": [
       "       begin_month\n",
       "count     26457.00\n",
       "mean         26.12\n",
       "std          16.56\n",
       "min          -0.00\n",
       "25%          12.00\n",
       "50%          24.00\n",
       "75%          39.00\n",
       "max          60.00"
      ]
     },
     "execution_count": 172,
     "metadata": {},
     "output_type": "execute_result"
    }
   ],
   "source": [
    "pd.DataFrame(train[['begin_month']].describe()['begin_month'].round(2))"
   ]
  },
  {
   "cell_type": "markdown",
   "metadata": {},
   "source": [
    "-> 신용카드 발급한 지 평균 26개월 정도 지났고, 편차는 16개월로 큰 편인 듯 보인다."
   ]
  },
  {
   "cell_type": "markdown",
   "metadata": {},
   "source": [
    "#### label 별로 확인"
   ]
  },
  {
   "cell_type": "code",
   "execution_count": 173,
   "metadata": {},
   "outputs": [
    {
     "data": {
      "text/html": [
       "<div>\n",
       "<style scoped>\n",
       "    .dataframe tbody tr th:only-of-type {\n",
       "        vertical-align: middle;\n",
       "    }\n",
       "\n",
       "    .dataframe tbody tr th {\n",
       "        vertical-align: top;\n",
       "    }\n",
       "\n",
       "    .dataframe thead th {\n",
       "        text-align: right;\n",
       "    }\n",
       "</style>\n",
       "<table border=\"1\" class=\"dataframe\">\n",
       "  <thead>\n",
       "    <tr style=\"text-align: right;\">\n",
       "      <th></th>\n",
       "      <th>0</th>\n",
       "      <th>1</th>\n",
       "      <th>2</th>\n",
       "    </tr>\n",
       "  </thead>\n",
       "  <tbody>\n",
       "    <tr>\n",
       "      <th>count</th>\n",
       "      <td>3222.00</td>\n",
       "      <td>6267.00</td>\n",
       "      <td>16968.00</td>\n",
       "    </tr>\n",
       "    <tr>\n",
       "      <th>mean</th>\n",
       "      <td>23.99</td>\n",
       "      <td>21.08</td>\n",
       "      <td>28.39</td>\n",
       "    </tr>\n",
       "    <tr>\n",
       "      <th>std</th>\n",
       "      <td>16.89</td>\n",
       "      <td>17.34</td>\n",
       "      <td>15.72</td>\n",
       "    </tr>\n",
       "    <tr>\n",
       "      <th>min</th>\n",
       "      <td>-0.00</td>\n",
       "      <td>-0.00</td>\n",
       "      <td>2.00</td>\n",
       "    </tr>\n",
       "    <tr>\n",
       "      <th>25%</th>\n",
       "      <td>9.00</td>\n",
       "      <td>5.00</td>\n",
       "      <td>15.00</td>\n",
       "    </tr>\n",
       "    <tr>\n",
       "      <th>50%</th>\n",
       "      <td>22.00</td>\n",
       "      <td>17.00</td>\n",
       "      <td>27.00</td>\n",
       "    </tr>\n",
       "    <tr>\n",
       "      <th>75%</th>\n",
       "      <td>37.00</td>\n",
       "      <td>35.00</td>\n",
       "      <td>41.00</td>\n",
       "    </tr>\n",
       "    <tr>\n",
       "      <th>max</th>\n",
       "      <td>60.00</td>\n",
       "      <td>60.00</td>\n",
       "      <td>60.00</td>\n",
       "    </tr>\n",
       "  </tbody>\n",
       "</table>\n",
       "</div>"
      ],
      "text/plain": [
       "             0        1         2\n",
       "count  3222.00  6267.00  16968.00\n",
       "mean     23.99    21.08     28.39\n",
       "std      16.89    17.34     15.72\n",
       "min      -0.00    -0.00      2.00\n",
       "25%       9.00     5.00     15.00\n",
       "50%      22.00    17.00     27.00\n",
       "75%      37.00    35.00     41.00\n",
       "max      60.00    60.00     60.00"
      ]
     },
     "execution_count": 173,
     "metadata": {},
     "output_type": "execute_result"
    }
   ],
   "source": [
    "tmp=[]\n",
    "idx = first[['begin_month']].describe().index\n",
    "tmp.append(list(first[['begin_month']].describe()['begin_month'].round(2)))\n",
    "tmp.append(list(second[['begin_month']].describe()['begin_month'].round(2)))\n",
    "tmp.append(list(third[['begin_month']].describe()['begin_month'].round(2)))\n",
    "tmp_df = pd.DataFrame(tmp).T\n",
    "tmp_df.index = idx\n",
    "tmp_df"
   ]
  },
  {
   "cell_type": "markdown",
   "metadata": {},
   "source": [
    "-> 라벨별로 차이가 다른 변수에 비해 상대적으로 잘 드러난다.\n",
    "  label이 2인경우가 평균, 중앙값으로보면 가장 오래됐고, 편차도 적은 편이다."
   ]
  },
  {
   "cell_type": "markdown",
   "metadata": {},
   "source": [
    "#### test set"
   ]
  },
  {
   "cell_type": "code",
   "execution_count": 174,
   "metadata": {},
   "outputs": [
    {
     "data": {
      "text/html": [
       "<div>\n",
       "<style scoped>\n",
       "    .dataframe tbody tr th:only-of-type {\n",
       "        vertical-align: middle;\n",
       "    }\n",
       "\n",
       "    .dataframe tbody tr th {\n",
       "        vertical-align: top;\n",
       "    }\n",
       "\n",
       "    .dataframe thead th {\n",
       "        text-align: right;\n",
       "    }\n",
       "</style>\n",
       "<table border=\"1\" class=\"dataframe\">\n",
       "  <thead>\n",
       "    <tr style=\"text-align: right;\">\n",
       "      <th></th>\n",
       "      <th>begin_month</th>\n",
       "    </tr>\n",
       "  </thead>\n",
       "  <tbody>\n",
       "    <tr>\n",
       "      <th>count</th>\n",
       "      <td>10000.00</td>\n",
       "    </tr>\n",
       "    <tr>\n",
       "      <th>mean</th>\n",
       "      <td>26.27</td>\n",
       "    </tr>\n",
       "    <tr>\n",
       "      <th>std</th>\n",
       "      <td>16.35</td>\n",
       "    </tr>\n",
       "    <tr>\n",
       "      <th>min</th>\n",
       "      <td>-0.00</td>\n",
       "    </tr>\n",
       "    <tr>\n",
       "      <th>25%</th>\n",
       "      <td>12.00</td>\n",
       "    </tr>\n",
       "    <tr>\n",
       "      <th>50%</th>\n",
       "      <td>25.00</td>\n",
       "    </tr>\n",
       "    <tr>\n",
       "      <th>75%</th>\n",
       "      <td>39.00</td>\n",
       "    </tr>\n",
       "    <tr>\n",
       "      <th>max</th>\n",
       "      <td>60.00</td>\n",
       "    </tr>\n",
       "  </tbody>\n",
       "</table>\n",
       "</div>"
      ],
      "text/plain": [
       "       begin_month\n",
       "count     10000.00\n",
       "mean         26.27\n",
       "std          16.35\n",
       "min          -0.00\n",
       "25%          12.00\n",
       "50%          25.00\n",
       "75%          39.00\n",
       "max          60.00"
      ]
     },
     "execution_count": 174,
     "metadata": {},
     "output_type": "execute_result"
    }
   ],
   "source": [
    "pd.DataFrame(test[['begin_month']].describe()['begin_month'].round(2))"
   ]
  },
  {
   "cell_type": "markdown",
   "metadata": {},
   "source": [
    "-> train set 과 유사한 양상을 띈다."
   ]
  },
  {
   "cell_type": "markdown",
   "metadata": {},
   "source": [
    "# credit"
   ]
  },
  {
   "cell_type": "code",
   "execution_count": 178,
   "metadata": {},
   "outputs": [
    {
     "data": {
      "text/plain": [
       "(array([-1. , -0.5,  0. ,  0.5,  1. ,  1.5,  2. ,  2.5,  3. ]),\n",
       " <a list of 9 Text xticklabel objects>)"
      ]
     },
     "execution_count": 178,
     "metadata": {},
     "output_type": "execute_result"
    },
    {
     "data": {
      "image/png": "[encoded data removed]",
      "text/plain": [
       "<Figure size 432x288 with 1 Axes>"
      ]
     },
     "metadata": {
      "needs_background": "light"
     },
     "output_type": "display_data"
    }
   ],
   "source": [
    "plt.bar(height = Counter(sorted(train['credit'])).values(), x = Counter(sorted(train['credit'])).keys())\n",
    "plt.xticks(rotation=45)"
   ]
  },
  {
   "cell_type": "markdown",
   "metadata": {},
   "source": [
    "-> 신용도가 가장 좋은 0 이 가장 적고, 이어서 1, 2가 빈도가 차례로 많게 나타났다."
   ]
  },
  {
   "cell_type": "markdown",
   "metadata": {},
   "source": [
    "### EDA1 에서는 기본적으로 빈도만 보고, label에 따라서 빈도가 달라지는지 확인해 보았으나, 생각보다 label 별로 차이가 없었다. 단순히 하나의 변수와 label 간의 관계를 보면, label 별로 다른 점을 찾기 힘들 것으로 보인다.\n",
    "\n",
    "### 이상치 처리나 변수 재설정 혹은 파생변수를 생성하여 분류 성능을 더 올릴 수 있는 방법을 찾아봐야 한다고 생각한다."
   ]
  }
 ],
 "metadata": {
  "kernelspec": {
   "display_name": "Python 3",
   "language": "python",
   "name": "python3"
  },
  "language_info": {
   "codemirror_mode": {
    "name": "ipython",
    "version": 3
   },
   "file_extension": ".py",
   "mimetype": "text/x-python",
   "name": "python",
   "nbconvert_exporter": "python",
   "pygments_lexer": "ipython3",
   "version": "3.7.6"
  }
 },
 "nbformat": 4,
 "nbformat_minor": 4
}
